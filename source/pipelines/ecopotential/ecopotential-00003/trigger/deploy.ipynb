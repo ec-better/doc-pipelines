{
 "cells": [
  {
   "cell_type": "markdown",
   "metadata": {},
   "source": [
    "## Deploy the trigger on the Production Centre"
   ]
  },
  {
   "cell_type": "markdown",
   "metadata": {
    "collapsed": true
   },
   "source": [
    "This Jupyter Notebook creates a Web Processing Service request on the Ellip Platform Deployer to deploy the trigger and its associated coordinators on the Production Centre. "
   ]
  },
  {
   "cell_type": "markdown",
   "metadata": {},
   "source": [
    "* Set the deployer"
   ]
  },
  {
   "cell_type": "code",
   "execution_count": 2,
   "metadata": {
    "collapsed": true
   },
   "outputs": [],
   "source": [
    "deployer = 'https://ec-ecopotential-triggers-deployer.terradue.com'"
   ]
  },
  {
   "cell_type": "markdown",
   "metadata": {},
   "source": [
    "* Define the trigger information"
   ]
  },
  {
   "cell_type": "code",
   "execution_count": 3,
   "metadata": {
    "collapsed": true
   },
   "outputs": [],
   "source": [
    "trigger = dict([('artifact_id', 'tg-ecopotential-00003'),\n",
    "            ('version', '1.13.2'),\n",
    "            ('community', 'ec-ecopotential')])"
   ]
  },
  {
   "cell_type": "markdown",
   "metadata": {},
   "source": [
    "* First do the imports of the Python libraries required"
   ]
  },
  {
   "cell_type": "code",
   "execution_count": 4,
   "metadata": {
    "collapsed": true
   },
   "outputs": [],
   "source": [
    "import jenkins\n",
    "import time\n",
    "import lxml.etree as etree\n",
    "import sys\n",
    "import requests\n",
    "import os\n",
    "import string\n",
    "import hashlib\n",
    "import urllib2\n",
    "import pytz\n",
    "from datetime import datetime\n",
    "import time\n",
    "import owslib\n",
    "from owslib.wps import monitorExecution\n",
    "import uuid\n",
    "from owslib.wps import WebProcessingService"
   ]
  },
  {
   "cell_type": "markdown",
   "metadata": {},
   "source": [
    "* Connect to the WPS server and do a GetCapabilities request to list the available process:"
   ]
  },
  {
   "cell_type": "code",
   "execution_count": 5,
   "metadata": {
    "collapsed": true
   },
   "outputs": [],
   "source": [
    "wps_url = '%s/zoo-bin/zoo_loader.cgi' % deployer\n",
    "\n",
    "wps = WebProcessingService(wps_url, verbose=False, skip_caps=True)\n",
    "\n",
    "wps.getcapabilities()"
   ]
  },
  {
   "cell_type": "code",
   "execution_count": 6,
   "metadata": {
    "collapsed": false
   },
   "outputs": [
    {
     "name": "stdout",
     "output_type": "stream",
     "text": [
      "(0, 'ec_ecopotential_tg_ecopotential_00004_queue_tg_ecopotential_00004_queue_0_1')\n",
      "(1, 'coordinator_ec_ecopotential_tg_ecopotential_00003_queue_tg_ecopotential_00003_1_12')\n",
      "(2, 'ec_ecopotential_tg_ecopotential_00003_queue_tg_ecopotential_00003_1_12')\n",
      "(3, 'coordinator_ec_ecopotential_tg_ecopotential_00003_via_tg_ecopotential_00003_1_12')\n",
      "(4, 'ec_ecopotential_tg_ecopotential_00004_via_tg_ecopotential_00004_via_0_1')\n",
      "(5, 'GetStatus')\n",
      "(6, 'ec_ecopotential_tg_ecopotential_00003_via_tg_ecopotential_00003_1_12')\n"
     ]
    }
   ],
   "source": [
    "for index, elem in enumerate(wps.processes):\n",
    "    print(index, elem.identifier)"
   ]
  },
  {
   "cell_type": "markdown",
   "metadata": {},
   "source": [
    "* Select the **DeployProcess** process to submit a DescribeProcess request and list the inputs:"
   ]
  },
  {
   "cell_type": "code",
   "execution_count": 23,
   "metadata": {
    "collapsed": false
   },
   "outputs": [
    {
     "name": "stdout",
     "output_type": "stream",
     "text": [
      "applicationPackage\n"
     ]
    }
   ],
   "source": [
    "process_id = 'DeployProcess'\n",
    "        \n",
    "process = wps.describeprocess(process_id)\n",
    "\n",
    "for input in process.dataInputs:\n",
    "    print(input.identifier)"
   ]
  },
  {
   "cell_type": "markdown",
   "metadata": {},
   "source": [
    "* Build the Python dictionary with the inputs:"
   ]
  },
  {
   "cell_type": "code",
   "execution_count": 9,
   "metadata": {
    "collapsed": true
   },
   "outputs": [],
   "source": [
    "# TODO confirm the path to via and queue\n",
    "\n",
    "docker_hub = 'https://store.terradue.com'\n",
    "\n",
    "ows_context_url = '%s/api/%s/_applications/%s/%s/%s/%s-%s-context.xml' % (docker_hub,\n",
    "                                                                          trigger['community'], \n",
    "                                                                   trigger['community'],  \n",
    "                                                                   trigger['artifact_id'], \n",
    "                                                                   trigger['version'],  \n",
    "                                                                   trigger['artifact_id'], \n",
    "                                                                   trigger['version'])\n",
    "    "
   ]
  },
  {
   "cell_type": "code",
   "execution_count": 8,
   "metadata": {
    "collapsed": false
   },
   "outputs": [
    {
     "data": {
      "text/plain": [
       "'https://store.terradue.com/api/ec-ecopotential/_applications/ec-ecopotential/tg-ecopotential-00003/1.13.2/tg-ecopotential-00003-1.13.2-context.xml'"
      ]
     },
     "execution_count": 8,
     "metadata": {},
     "output_type": "execute_result"
    }
   ],
   "source": [
    "ows_context_url"
   ]
  },
  {
   "cell_type": "code",
   "execution_count": 26,
   "metadata": {
    "collapsed": true
   },
   "outputs": [],
   "source": [
    "inputs = [('applicationPackage', ows_context_url)]"
   ]
  },
  {
   "cell_type": "markdown",
   "metadata": {},
   "source": [
    "* Submit the Execute WPS request:"
   ]
  },
  {
   "cell_type": "code",
   "execution_count": 19,
   "metadata": {
    "collapsed": true
   },
   "outputs": [],
   "source": [
    "execution = owslib.wps.WPSExecution(url=wps.url)\n",
    "\n",
    "execution_request = execution.buildRequest(process_id, \n",
    "                                           inputs, \n",
    "                                           output = [('deployResult', False)])\n",
    "        \n",
    "execution_response = execution.submitRequest(etree.tostring(execution_request))\n",
    "        \n",
    "execution.parseResponse(execution_response)"
   ]
  },
  {
   "cell_type": "markdown",
   "metadata": {},
   "source": [
    "* Monitor the request:"
   ]
  },
  {
   "cell_type": "code",
   "execution_count": 20,
   "metadata": {
    "collapsed": false
   },
   "outputs": [
    {
     "name": "stdout",
     "output_type": "stream",
     "text": [
      " owslib.wps.WPSException : {'locator': None, 'code': 't2h5', 'text': '{\\n  \"errors\" : [ {\\n    \"status\" : 401,\\n    \"message\" : \"Unauthorized\"\\n  } ]\\n}'}\n"
     ]
    }
   ],
   "source": [
    "monitorExecution(execution)"
   ]
  },
  {
   "cell_type": "markdown",
   "metadata": {},
   "source": [
    "* Check if the application was successfully deployed"
   ]
  },
  {
   "cell_type": "code",
   "execution_count": 21,
   "metadata": {
    "collapsed": false
   },
   "outputs": [
    {
     "name": "stdout",
     "output_type": "stream",
     "text": [
      "Application not deployed :-(\n"
     ]
    }
   ],
   "source": [
    "if execution.isSucceded(): \n",
    "            \n",
    "    print 'Application deployed!'\n",
    "            \n",
    "else: \n",
    "\n",
    "    print 'Application not deployed :-('"
   ]
  },
  {
   "cell_type": "code",
   "execution_count": null,
   "metadata": {
    "collapsed": true
   },
   "outputs": [],
   "source": []
  }
 ],
 "metadata": {
  "kernelspec": {
   "display_name": "Python 2",
   "language": "python",
   "name": "python2"
  },
  "language_info": {
   "codemirror_mode": {
    "name": "ipython",
    "version": 2
   },
   "file_extension": ".py",
   "mimetype": "text/x-python",
   "name": "python",
   "nbconvert_exporter": "python",
   "pygments_lexer": "ipython2",
   "version": "2.7.12"
  }
 },
 "nbformat": 4,
 "nbformat_minor": 2
}
