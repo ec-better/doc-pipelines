{
 "cells": [
  {
   "cell_type": "markdown",
   "metadata": {},
   "source": [
    "## Build the trigger"
   ]
  },
  {
   "cell_type": "markdown",
   "metadata": {
    "collapsed": true
   },
   "source": [
    "The Production Centre uses Docker images and deploys them in a Cloud based environment for large scale production campaigns.\n",
    "\n",
    "This step will trigger the build of a Docker image containing the trigger. "
   ]
  },
  {
   "cell_type": "markdown",
   "metadata": {},
   "source": [
    "We will invoke components of the Ellip Platform Continuous Integration."
   ]
  },
  {
   "cell_type": "markdown",
   "metadata": {},
   "source": [
    "The input for trigering the build of Docker image containing the data transformation application uses the pom, an XML file that contains information about the data transformation application and configuration details used by Maven to build the Docker image."
   ]
  },
  {
   "cell_type": "markdown",
   "metadata": {},
   "source": [
    "The goal of this Jupyter Notebook is to build of the data transformation application Docker image."
   ]
  },
  {
   "cell_type": "markdown",
   "metadata": {},
   "source": [
    "* Define the data transformation application information"
   ]
  },
  {
   "cell_type": "code",
   "execution_count": 5,
   "metadata": {
    "collapsed": true
   },
   "outputs": [],
   "source": [
    "trigger = dict([('artifact_id', 'tg-ecopotential-00003'),\n",
    "                ('community', 'ec-ecopotential')])"
   ]
  },
  {
   "cell_type": "markdown",
   "metadata": {},
   "source": [
    "* Set the authentication information:"
   ]
  },
  {
   "cell_type": "code",
   "execution_count": 7,
   "metadata": {
    "collapsed": false
   },
   "outputs": [
    {
     "name": "stdout",
     "output_type": "stream",
     "text": [
      "What is your Jenkins username? fbrito\n",
      "And your Jenkins API key:········\n"
     ]
    }
   ],
   "source": [
    "import getpass \n",
    "\n",
    "username = raw_input(\"What is your Jenkins username? \")\n",
    "api_key = getpass.getpass('And your Jenkins API key:')"
   ]
  },
  {
   "cell_type": "markdown",
   "metadata": {},
   "source": [
    "* First the import of the required Python libraries:"
   ]
  },
  {
   "cell_type": "code",
   "execution_count": 8,
   "metadata": {
    "collapsed": true
   },
   "outputs": [],
   "source": [
    "import jenkins\n",
    "import time\n",
    "import lxml.etree as etree\n",
    "import sys\n",
    "import requests\n",
    "import os\n",
    "import string\n",
    "import hashlib\n",
    "import urllib2\n",
    "import pytz\n",
    "from datetime import datetime\n",
    "import time\n",
    "import owslib\n",
    "from owslib.wps import monitorExecution\n",
    "import uuid\n",
    "from owslib.wps import WebProcessingService\n"
   ]
  },
  {
   "cell_type": "markdown",
   "metadata": {},
   "source": [
    "* Create two simple functions to submit the build request and to monitor it:"
   ]
  },
  {
   "cell_type": "code",
   "execution_count": 9,
   "metadata": {
    "collapsed": true
   },
   "outputs": [],
   "source": [
    "def submit_build_job(server, job, sleepSecs=3):\n",
    "    \n",
    "    last_build = server.get_job_info(job)['lastCompletedBuild']['number']\n",
    "    \n",
    "    server.build_job(job, {'RELEASE': 'true'}) \n",
    "    \n",
    "    while server.get_job_info(job)['lastBuild']['number'] == last_build:\n",
    "        \n",
    "        time.sleep(sleepSecs)\n",
    "        \n",
    "    return server.get_job_info(job)['lastBuild']['number']"
   ]
  },
  {
   "cell_type": "code",
   "execution_count": 10,
   "metadata": {
    "collapsed": true
   },
   "outputs": [],
   "source": [
    "def monitor_build_job(server, job, sleepSecs=15):\n",
    "    \n",
    "    last_build_number = server.get_job_info(job)['lastBuild']['number']\n",
    "    \n",
    "    while server.get_build_info(job, last_build_number)['building']:\n",
    "        \n",
    "        time.sleep(sleepSecs)\n",
    "    \n",
    "    if str(server.get_build_info(job, last_build_number)['result']) == 'SUCCESS':\n",
    "        \n",
    "        return True\n",
    "    \n",
    "    if str(server.get_build_info(job, last_build_number)['result']) == 'FAILURE':\n",
    "        \n",
    "        return False"
   ]
  },
  {
   "cell_type": "markdown",
   "metadata": {},
   "source": [
    "* Establish a connection with the build component of the Ellip Platform Continuous Integration:"
   ]
  },
  {
   "cell_type": "code",
   "execution_count": 11,
   "metadata": {
    "collapsed": false
   },
   "outputs": [],
   "source": [
    "server = jenkins.Jenkins(url='https://build.terradue.com',\n",
    "                        username=username,\n",
    "                        password=api_key)"
   ]
  },
  {
   "cell_type": "markdown",
   "metadata": {},
   "source": [
    "* Create the build request path:"
   ]
  },
  {
   "cell_type": "code",
   "execution_count": 12,
   "metadata": {
    "collapsed": false
   },
   "outputs": [],
   "source": [
    "job = 'triggers/%s/%s/docker' % (trigger['community'], \n",
    "                                      trigger['artifact_id'])"
   ]
  },
  {
   "cell_type": "code",
   "execution_count": 13,
   "metadata": {
    "collapsed": false
   },
   "outputs": [
    {
     "name": "stdout",
     "output_type": "stream",
     "text": [
      "triggers/ec-ecopotential/tg-ecopotential-00003/docker\n"
     ]
    }
   ],
   "source": [
    "print(job)"
   ]
  },
  {
   "cell_type": "markdown",
   "metadata": {},
   "source": [
    "* Submit the build job:"
   ]
  },
  {
   "cell_type": "code",
   "execution_count": 14,
   "metadata": {
    "collapsed": false
   },
   "outputs": [
    {
     "data": {
      "text/plain": [
       "92"
      ]
     },
     "execution_count": 14,
     "metadata": {},
     "output_type": "execute_result"
    }
   ],
   "source": [
    "submit_build_job(server, job)"
   ]
  },
  {
   "cell_type": "markdown",
   "metadata": {},
   "source": [
    "* Monitor the build request:"
   ]
  },
  {
   "cell_type": "code",
   "execution_count": 15,
   "metadata": {
    "collapsed": false
   },
   "outputs": [
    {
     "name": "stdout",
     "output_type": "stream",
     "text": [
      "Job build completed\n"
     ]
    }
   ],
   "source": [
    "if monitor_build_job(server, job):\n",
    "    print 'Job build completed'\n",
    "else:\n",
    "    print 'Job build failed'"
   ]
  },
  {
   "cell_type": "code",
   "execution_count": null,
   "metadata": {
    "collapsed": true
   },
   "outputs": [],
   "source": []
  }
 ],
 "metadata": {
  "kernelspec": {
   "display_name": "Python 2",
   "language": "python",
   "name": "python2"
  },
  "language_info": {
   "codemirror_mode": {
    "name": "ipython",
    "version": 2
   },
   "file_extension": ".py",
   "mimetype": "text/x-python",
   "name": "python",
   "nbconvert_exporter": "python",
   "pygments_lexer": "ipython2",
   "version": "2.7.12"
  }
 },
 "nbformat": 4,
 "nbformat_minor": 2
}
