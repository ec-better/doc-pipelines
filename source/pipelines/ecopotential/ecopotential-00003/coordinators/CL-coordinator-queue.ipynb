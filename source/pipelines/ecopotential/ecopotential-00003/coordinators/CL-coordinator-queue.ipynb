{
 "cells": [
  {
   "cell_type": "markdown",
   "metadata": {},
   "source": [
    "## ECOPOTENTIAL-00003 Data Pipeline Coodinator Queue - NDVI Curonian Lagoon"
   ]
  },
  {
   "cell_type": "markdown",
   "metadata": {},
   "source": [
    "This coordinator feeds the ecopotential-00003 data pipeline queue for the Curonian Lagoon protected area"
   ]
  },
  {
   "cell_type": "markdown",
   "metadata": {},
   "source": [
    "### Data pipeline parameters"
   ]
  },
  {
   "cell_type": "code",
   "execution_count": 1,
   "metadata": {
    "collapsed": true
   },
   "outputs": [],
   "source": [
    "data_pipeline = 'ecopotential-00003'"
   ]
  },
  {
   "cell_type": "code",
   "execution_count": 2,
   "metadata": {
    "collapsed": true
   },
   "outputs": [],
   "source": [
    "wps_url_triggers = 'https://ec-ecopotential-triggers-deployer.terradue.com/zoo/'\n",
    "wps_url_apps = 'https://ec-ecopotential-apps-deployer.terradue.com/zoo/'"
   ]
  },
  {
   "cell_type": "markdown",
   "metadata": {},
   "source": [
    "### Data transformation application parameters"
   ]
  },
  {
   "cell_type": "markdown",
   "metadata": {},
   "source": [
    "* Application: dcs-s2-ndvi-boa\n",
    "* Application repository: https://github.com/ec-ecopotential/dcs-s2-ndvi-boa\n",
    "* Build (CI): https://build.terradue.com/job/communities/job/Github%20Organizations/job/ec-ecopotential/job/dcs-s2-ndviboa/"
   ]
  },
  {
   "cell_type": "code",
   "execution_count": 3,
   "metadata": {
    "collapsed": true
   },
   "outputs": [],
   "source": [
    "process_id = 'ec_ecopotential_dcs_s2_ndvi_boa_ndvi_boa_1_9'"
   ]
  },
  {
   "cell_type": "code",
   "execution_count": 4,
   "metadata": {
    "collapsed": true
   },
   "outputs": [],
   "source": [
    "pa_code = 'CL'\n",
    "pa_name = 'Curonian Lagoon'\n",
    "resolution = '10'\n",
    "plot = 'False'\n",
    "flag_expr = 'saturated_l1a_B4'"
   ]
  },
  {
   "cell_type": "markdown",
   "metadata": {},
   "source": [
    "### Data selection parameters"
   ]
  },
  {
   "cell_type": "code",
   "execution_count": 5,
   "metadata": {
    "collapsed": true
   },
   "outputs": [],
   "source": [
    "series = 'https://catalog.terradue.com/sentinel2/description'"
   ]
  },
  {
   "cell_type": "code",
   "execution_count": 6,
   "metadata": {
    "collapsed": true
   },
   "outputs": [],
   "source": [
    "product_type = 'S2MSI2Ap'"
   ]
  },
  {
   "cell_type": "code",
   "execution_count": 7,
   "metadata": {
    "collapsed": true
   },
   "outputs": [],
   "source": [
    "cloud_coverage = '100['"
   ]
  },
  {
   "cell_type": "code",
   "execution_count": 8,
   "metadata": {
    "collapsed": true
   },
   "outputs": [],
   "source": [
    "wkt = 'POLYGON((21.056 55.722,21.094 55.722,21.083 55.73,21.128 55.707,21.123 55.706,21.165 55.647,21.164 55.643,21.146 55.661,21.143 55.661,21.152 55.639,21.187 55.582,21.238 55.596,21.248 55.569,21.281 55.559,21.243 55.537,21.23 55.537,21.234 55.53,21.223 55.524,21.245 55.493,21.315 55.497,21.341 55.49,21.316 55.473,21.298 55.472,21.283 55.461,21.261 55.424,21.248 55.425,21.247 55.412,21.271 55.403,21.299 55.425,21.375 55.412,21.399 55.423,21.43 55.424,21.425 55.415,21.436 55.398,21.461 55.397,21.459 55.389,21.423 55.352,21.439 55.329,21.456 55.325,21.441 55.317,21.469 55.29,21.489 55.291,21.489 55.284,21.469 55.274,21.495 55.262,21.537 55.26,21.563 55.238,21.594 55.237,21.575 55.233,21.59 55.225,21.587 55.219,21.576 55.21,21.579 55.203,21.616 55.19,21.608 55.19,21.646 55.183,21.593 55.187,21.566 55.197,21.551 55.181,21.592 55.149,21.618 55.085,21.528 55.07,21.372 55.067,21.292 55.022,21.248 55.018,21.22 55.028,21.21 55.009,21.242 54.978,21.249 54.958,21.242 54.943,21.21 54.92,21.152 54.915,21.101 54.906,21.085 54.891,21.059 54.901,21.029 54.892,21.018 54.9,20.996 54.891,20.89 54.907,20.866 54.901,20.79 54.947,20.692 54.931,20.619 54.94,20.574 54.935,20.548 54.942,20.532 54.956,20.529 54.951,20.52 54.956,20.497 54.946,20.503 54.951,20.528 54.959,20.532 54.968,20.523 54.975,20.497 54.969,20.578 55,20.68 55.059,20.952 55.281,20.917 55.287,20.977 55.364,21.042 55.486,21.055 55.525,21.056 55.722))'"
   ]
  },
  {
   "cell_type": "code",
   "execution_count": 9,
   "metadata": {
    "collapsed": true
   },
   "outputs": [],
   "source": [
    "from shapely.wkt import loads "
   ]
  },
  {
   "cell_type": "code",
   "execution_count": 10,
   "metadata": {
    "collapsed": false
   },
   "outputs": [],
   "source": [
    "geom = loads(wkt).buffer(0.2).simplify(0.01, preserve_topology=False).to_wkt().replace(',', '%2C').replace(' ', '%20')"
   ]
  },
  {
   "cell_type": "markdown",
   "metadata": {},
   "source": [
    "### User Mapping"
   ]
  },
  {
   "cell_type": "code",
   "execution_count": 11,
   "metadata": {
    "collapsed": true
   },
   "outputs": [],
   "source": [
    "api_key = 'AKCp5aTSAokLQTzhVH52Q8tcfobtaVQtJ3xPiGgB8AdxSPvDpUXU1DW2uYby4EjJcEiJtaoPu'"
   ]
  },
  {
   "cell_type": "markdown",
   "metadata": {},
   "source": [
    "### Coordinator parameters"
   ]
  },
  {
   "cell_type": "code",
   "execution_count": 12,
   "metadata": {
    "collapsed": false
   },
   "outputs": [],
   "source": [
    "start_queue = '${coord:formatTime(coord:dateOffset(coord:nominalTime(), -10, \\'DAY\\'), \"yyyy-MM-dd\\'T\\'HH:mm:ss\\'Z\\'\")}'\n",
    "end_queue = '${coord:formatTime(coord:dateOffset(coord:nominalTime(), -9, \\'DAY\\'), \"yyyy-MM-dd\\'T\\'HH:mm:ss\\'Z\\'\")}'"
   ]
  },
  {
   "cell_type": "code",
   "execution_count": 13,
   "metadata": {
    "collapsed": true
   },
   "outputs": [],
   "source": [
    "co_trigger_queue_process_id = 'coordinator_ec_ecopotential_tg_ecopotential_00003_queue_tg_ecopotential_00003_1_12'"
   ]
  },
  {
   "cell_type": "code",
   "execution_count": 14,
   "metadata": {
    "collapsed": true
   },
   "outputs": [],
   "source": [
    "coordinator_date_start = '2017-01-01T00:00Z'\n",
    "coordinator_date_stop = '2018-12-31T00:00Z'\n",
    "coordinator_period = '0 0 * * *'"
   ]
  },
  {
   "cell_type": "markdown",
   "metadata": {},
   "source": [
    "### Imports"
   ]
  },
  {
   "cell_type": "code",
   "execution_count": 15,
   "metadata": {
    "collapsed": false
   },
   "outputs": [],
   "source": [
    "import owslib\n",
    "from owslib.wps import monitorExecution\n",
    "from owslib.wps import WebProcessingService\n",
    "import sys\n",
    "import os\n",
    "sys.path.append('/opt/anaconda/bin/')\n",
    "import lxml.etree as etree\n",
    "import requests\n",
    "import shapely\n",
    "import dateutil.parser\n",
    "\n",
    "from datetime import datetime, timedelta\n",
    "from io import BytesIO\n",
    "import json"
   ]
  },
  {
   "cell_type": "markdown",
   "metadata": {},
   "source": [
    "### Common Parameters"
   ]
  },
  {
   "cell_type": "code",
   "execution_count": 16,
   "metadata": {
    "collapsed": true
   },
   "outputs": [],
   "source": [
    "tg_quotation = 'No'\n",
    "recovery = 'No'\n",
    "_T2Username = data_pipeline"
   ]
  },
  {
   "cell_type": "markdown",
   "metadata": {},
   "source": [
    "### Check data transformation application"
   ]
  },
  {
   "cell_type": "code",
   "execution_count": 17,
   "metadata": {
    "collapsed": false
   },
   "outputs": [],
   "source": [
    "wps = WebProcessingService(wps_url_apps, verbose=False, skip_caps=False)"
   ]
  },
  {
   "cell_type": "code",
   "execution_count": 18,
   "metadata": {
    "collapsed": false
   },
   "outputs": [
    {
     "name": "stdout",
     "output_type": "stream",
     "text": [
      "The process ec_ecopotential_dcs_s2_ndvi_boa_ndvi_boa_1_9 is deployed\n"
     ]
    }
   ],
   "source": [
    "found_process = False\n",
    "\n",
    "message = \"The process %s is not deployed\" % process_id  \n",
    "    \n",
    "for index, elem in enumerate(wps.processes):\n",
    "\n",
    "    if elem.identifier == process_id:\n",
    "        message = \"The process %s is deployed\" % process_id  \n",
    "        found_process = True\n",
    "        \n",
    "print message\n",
    "\n",
    "if not found_process:\n",
    "    raise Exception()"
   ]
  },
  {
   "cell_type": "code",
   "execution_count": 19,
   "metadata": {
    "collapsed": true
   },
   "outputs": [],
   "source": [
    "process = wps.describeprocess(process_id)"
   ]
  },
  {
   "cell_type": "code",
   "execution_count": 20,
   "metadata": {
    "collapsed": false
   },
   "outputs": [
    {
     "name": "stdout",
     "output_type": "stream",
     "text": [
      "source\n",
      "pa_code\n",
      "pa_name\n",
      "resolution\n",
      "plot\n",
      "flag_expr\n",
      "_T2Username\n"
     ]
    }
   ],
   "source": [
    "for input in process.dataInputs:\n",
    "    print(input.identifier)"
   ]
  },
  {
   "cell_type": "markdown",
   "metadata": {},
   "source": [
    "### Check trigger coordinator"
   ]
  },
  {
   "cell_type": "code",
   "execution_count": 21,
   "metadata": {
    "collapsed": false
   },
   "outputs": [],
   "source": [
    "wps = WebProcessingService(wps_url_triggers, verbose=False, skip_caps=False)"
   ]
  },
  {
   "cell_type": "code",
   "execution_count": 22,
   "metadata": {
    "collapsed": false
   },
   "outputs": [
    {
     "name": "stdout",
     "output_type": "stream",
     "text": [
      "The queue coordinator process coordinator_ec_ecopotential_tg_ecopotential_00003_queue_tg_ecopotential_00003_1_12 is deployed\n"
     ]
    }
   ],
   "source": [
    "found_process = False\n",
    "\n",
    "message = \"The queue coordinator process %s is not deployed\" % co_trigger_queue_process_id  \n",
    "    \n",
    "for index, elem in enumerate(wps.processes):\n",
    "\n",
    "    if elem.identifier == co_trigger_queue_process_id:\n",
    "        message = \"The queue coordinator process %s is deployed\" % co_trigger_queue_process_id  \n",
    "        found_process = True\n",
    "        \n",
    "print message\n",
    "\n",
    "if not found_process:\n",
    "    raise Exception()"
   ]
  },
  {
   "cell_type": "markdown",
   "metadata": {},
   "source": [
    "### Feed the queue"
   ]
  },
  {
   "cell_type": "code",
   "execution_count": 23,
   "metadata": {
    "collapsed": false
   },
   "outputs": [],
   "source": [
    "process = wps.describeprocess(co_trigger_queue_process_id)"
   ]
  },
  {
   "cell_type": "code",
   "execution_count": 24,
   "metadata": {
    "collapsed": false
   },
   "outputs": [
    {
     "data": {
      "text/plain": [
       "'Trigger for ecopotential-00003 Coordinator'"
      ]
     },
     "execution_count": 24,
     "metadata": {},
     "output_type": "execute_result"
    }
   ],
   "source": [
    "process.title"
   ]
  },
  {
   "cell_type": "code",
   "execution_count": 25,
   "metadata": {
    "collapsed": false
   },
   "outputs": [
    {
     "data": {
      "text/plain": [
       "'Coordinator: Trigger for ecopotential-00003'"
      ]
     },
     "execution_count": 25,
     "metadata": {},
     "output_type": "execute_result"
    }
   ],
   "source": [
    "process.abstract"
   ]
  },
  {
   "cell_type": "code",
   "execution_count": 26,
   "metadata": {
    "collapsed": false
   },
   "outputs": [
    {
     "name": "stdout",
     "output_type": "stream",
     "text": [
      "series\n",
      "data_pipeline\n",
      "wps_url\n",
      "process_id\n",
      "update\n",
      "geom\n",
      "product_type\n",
      "cloud_coverage\n",
      "tg_quotation\n",
      "api_key\n",
      "recovery\n",
      "mode\n",
      "pa_code\n",
      "pa_name\n",
      "resolution\n",
      "plot\n",
      "flag_expr\n",
      "t2_coordinator_date_start\n",
      "t2_coordinator_date_stop\n",
      "t2_coordinator_period\n",
      "_T2Username\n"
     ]
    }
   ],
   "source": [
    "for input in process.dataInputs:\n",
    "    print(input.identifier)"
   ]
  },
  {
   "cell_type": "markdown",
   "metadata": {},
   "source": [
    "##### Define the input parameters\n"
   ]
  },
  {
   "cell_type": "code",
   "execution_count": 27,
   "metadata": {
    "collapsed": true
   },
   "outputs": [],
   "source": [
    "mode = 'Queue'"
   ]
  },
  {
   "cell_type": "code",
   "execution_count": 28,
   "metadata": {
    "collapsed": false
   },
   "outputs": [],
   "source": [
    "inputs = [('series', series),\n",
    "        ('data_pipeline', data_pipeline),\n",
    "        ('wps_url', wps_url_apps),\n",
    "        ('process_id', process_id),\n",
    "        ('update', '%s/%s' % (start_queue, end_queue)),\n",
    "        ('geom', geom),\n",
    "        ('product_type', product_type),\n",
    "        ('cloud_coverage', cloud_coverage),\n",
    "        ('tg_quotation', tg_quotation),\n",
    "        ('api_key', api_key),\n",
    "        ('recovery', recovery),\n",
    "        ('mode', mode),\n",
    "        ('pa_code', pa_code),\n",
    "        ('pa_name', pa_name),\n",
    "        ('resolution', resolution),\n",
    "        ('plot', plot),\n",
    "        ('flag_expr', flag_expr),\n",
    "        ('t2_coordinator_date_start', coordinator_date_start), \n",
    "        ('t2_coordinator_date_stop', coordinator_date_stop),\n",
    "        ('t2_coordinator_period', coordinator_period),\n",
    "        ('_T2Username', data_pipeline)]"
   ]
  },
  {
   "cell_type": "markdown",
   "metadata": {},
   "source": [
    "##### Identify the outputs"
   ]
  },
  {
   "cell_type": "code",
   "execution_count": 29,
   "metadata": {
    "collapsed": false
   },
   "outputs": [
    {
     "name": "stdout",
     "output_type": "stream",
     "text": [
      "coordinatorIds\n"
     ]
    }
   ],
   "source": [
    "for output in process.processOutputs:\n",
    "    print(output.identifier)"
   ]
  },
  {
   "cell_type": "markdown",
   "metadata": {},
   "source": [
    "##### Submit the coordinator request"
   ]
  },
  {
   "cell_type": "code",
   "execution_count": 30,
   "metadata": {
    "collapsed": true
   },
   "outputs": [],
   "source": [
    "execution = owslib.wps.WPSExecution(url=wps.url)"
   ]
  },
  {
   "cell_type": "code",
   "execution_count": 31,
   "metadata": {
    "collapsed": false
   },
   "outputs": [],
   "source": [
    "execution_request = execution.buildRequest(co_trigger_queue_process_id, \n",
    "                                           inputs, \n",
    "                                           output = [('coordinatorIds', False)])"
   ]
  },
  {
   "cell_type": "code",
   "execution_count": 32,
   "metadata": {
    "collapsed": false
   },
   "outputs": [],
   "source": [
    "execution_response = execution.submitRequest(etree.tostring(execution_request, pretty_print=True))"
   ]
  },
  {
   "cell_type": "code",
   "execution_count": 33,
   "metadata": {
    "collapsed": true
   },
   "outputs": [],
   "source": [
    "if False:\n",
    "    print(etree.tostring(execution_request, pretty_print=True))"
   ]
  },
  {
   "cell_type": "code",
   "execution_count": 34,
   "metadata": {
    "collapsed": false
   },
   "outputs": [],
   "source": [
    "execution.parseResponse(execution_response)"
   ]
  },
  {
   "cell_type": "code",
   "execution_count": 35,
   "metadata": {
    "collapsed": false
   },
   "outputs": [],
   "source": [
    "if False:\n",
    "    print(etree.tostring(execution_response, pretty_print=True))"
   ]
  },
  {
   "cell_type": "code",
   "execution_count": 36,
   "metadata": {
    "collapsed": false
   },
   "outputs": [
    {
     "data": {
      "text/plain": [
       "'http://ec-ecopotential-triggers-deployer.terradue.com/zoo-bin/zoo_loader.cgi?request=Execute&service=WPS&version=1.0.0&Identifier=GetStatus&DataInputs=sid=2ea0f754-6e28-11e8-9cf4-0242ac110005&RawDataOutput=Result'"
      ]
     },
     "execution_count": 36,
     "metadata": {},
     "output_type": "execute_result"
    }
   ],
   "source": [
    "execution.statusLocation"
   ]
  },
  {
   "cell_type": "code",
   "execution_count": 37,
   "metadata": {
    "collapsed": false
   },
   "outputs": [],
   "source": [
    "monitorExecution(execution)"
   ]
  },
  {
   "cell_type": "code",
   "execution_count": 38,
   "metadata": {
    "collapsed": false
   },
   "outputs": [
    {
     "data": {
      "text/plain": [
       "True"
      ]
     },
     "execution_count": 38,
     "metadata": {},
     "output_type": "execute_result"
    }
   ],
   "source": [
    "execution.isSucceded()"
   ]
  },
  {
   "cell_type": "code",
   "execution_count": 39,
   "metadata": {
    "collapsed": false
   },
   "outputs": [
    {
     "name": "stdout",
     "output_type": "stream",
     "text": [
      "coordinatorIds\n",
      "result_osd\n",
      "QUOTATION\n"
     ]
    }
   ],
   "source": [
    "for output in execution.processOutputs:\n",
    "    print(output.identifier)"
   ]
  },
  {
   "cell_type": "code",
   "execution_count": 40,
   "metadata": {
    "collapsed": false
   },
   "outputs": [],
   "source": [
    "coordinator_id = str(json.loads(execution.processOutputs[0].data[0])['coordinatorsId'][0]['oozieId'])"
   ]
  },
  {
   "cell_type": "code",
   "execution_count": 41,
   "metadata": {
    "collapsed": false
   },
   "outputs": [
    {
     "data": {
      "text/plain": [
       "'0002146-180330140554685-oozie-oozi-C'"
      ]
     },
     "execution_count": 41,
     "metadata": {},
     "output_type": "execute_result"
    }
   ],
   "source": [
    "coordinator_id"
   ]
  },
  {
   "cell_type": "code",
   "execution_count": null,
   "metadata": {
    "collapsed": true
   },
   "outputs": [],
   "source": []
  }
 ],
 "metadata": {
  "kernelspec": {
   "display_name": "Python 2",
   "language": "python",
   "name": "python2"
  },
  "language_info": {
   "codemirror_mode": {
    "name": "ipython",
    "version": 2
   },
   "file_extension": ".py",
   "mimetype": "text/x-python",
   "name": "python",
   "nbconvert_exporter": "python",
   "pygments_lexer": "ipython2",
   "version": "2.7.12"
  }
 },
 "nbformat": 4,
 "nbformat_minor": 2
}
