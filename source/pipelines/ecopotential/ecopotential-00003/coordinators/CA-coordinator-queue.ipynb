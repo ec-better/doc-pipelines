{
 "cells": [
  {
   "cell_type": "markdown",
   "metadata": {},
   "source": [
    "## ECOPOTENTIAL-00003 Data Pipeline Coodinator Queue - NDVI CAMARGUE"
   ]
  },
  {
   "cell_type": "markdown",
   "metadata": {},
   "source": [
    "This coordinator feeds the ecopotential-00003 data pipeline queue for the Camargue protected area"
   ]
  },
  {
   "cell_type": "markdown",
   "metadata": {},
   "source": [
    "### Data pipeline parameters"
   ]
  },
  {
   "cell_type": "code",
   "execution_count": 2,
   "metadata": {
    "collapsed": true
   },
   "outputs": [],
   "source": [
    "data_pipeline = 'ecopotential-00003'"
   ]
  },
  {
   "cell_type": "markdown",
   "metadata": {},
   "source": [
    "### Authentication"
   ]
  },
  {
   "cell_type": "code",
   "execution_count": 4,
   "metadata": {
    "collapsed": false
   },
   "outputs": [
    {
     "name": "stdout",
     "output_type": "stream",
     "text": [
      "Ellip API key for user ecopotential-00003:········\n"
     ]
    }
   ],
   "source": [
    "import getpass \n",
    "\n",
    "api_key = getpass.getpass('Ellip API key for user %s:' % data_pipeline)"
   ]
  },
  {
   "cell_type": "markdown",
   "metadata": {},
   "source": [
    "### Deployer "
   ]
  },
  {
   "cell_type": "code",
   "execution_count": 2,
   "metadata": {
    "collapsed": true
   },
   "outputs": [],
   "source": [
    "wps_url_triggers = 'https://ec-ecopotential-triggers-deployer.terradue.com/zoo/'\n",
    "wps_url_apps = 'https://ec-ecopotential-apps-deployer.terradue.com/zoo/'"
   ]
  },
  {
   "cell_type": "markdown",
   "metadata": {},
   "source": [
    "### Data transformation application parameters"
   ]
  },
  {
   "cell_type": "markdown",
   "metadata": {},
   "source": [
    "* Application: dcs-s2-ndvi-boa\n",
    "* Application repository: https://github.com/ec-ecopotential/dcs-s2-ndvi-boa\n",
    "* Build (CI): https://build.terradue.com/job/communities/job/Github%20Organizations/job/ec-ecopotential/job/dcs-s2-ndviboa/"
   ]
  },
  {
   "cell_type": "code",
   "execution_count": 3,
   "metadata": {
    "collapsed": true
   },
   "outputs": [],
   "source": [
    "process_id = 'ec_ecopotential_dcs_s2_ndvi_boa_ndvi_boa_1_9'"
   ]
  },
  {
   "cell_type": "code",
   "execution_count": 4,
   "metadata": {
    "collapsed": true
   },
   "outputs": [],
   "source": [
    "pa_code = 'CA'\n",
    "pa_name = 'Camargue'\n",
    "resolution = '10'\n",
    "plot = 'False'\n",
    "flag_expr = 'saturated_l1a_B4'"
   ]
  },
  {
   "cell_type": "markdown",
   "metadata": {},
   "source": [
    "### Data selection parameters"
   ]
  },
  {
   "cell_type": "code",
   "execution_count": 5,
   "metadata": {
    "collapsed": true
   },
   "outputs": [],
   "source": [
    "series = 'https://catalog.terradue.com/sentinel2/description'"
   ]
  },
  {
   "cell_type": "code",
   "execution_count": 6,
   "metadata": {
    "collapsed": true
   },
   "outputs": [],
   "source": [
    "product_type = 'S2MSI2A'"
   ]
  },
  {
   "cell_type": "code",
   "execution_count": 7,
   "metadata": {
    "collapsed": true
   },
   "outputs": [],
   "source": [
    "cloud_coverage = '100['"
   ]
  },
  {
   "cell_type": "code",
   "execution_count": 8,
   "metadata": {
    "collapsed": true
   },
   "outputs": [],
   "source": [
    "wkt = 'POLYGON((4.87422567012 43.3610336917, 4.87808277825 43.3593287287, 4.87933078214 43.358984459, 4.8784240356 43.35659545, 4.88064750596 43.35575493, 4.88188374715 43.3560134945, 4.8857850068 43.3561179896, 4.88524908677 43.3587245951, 4.88434641352 43.3638898842, 4.88517662849 43.3633317959, 4.88678190316 43.363372484, 4.89003529789 43.3618231836, 4.89324682366 43.3635473081, 4.89532621202 43.3656197051, 4.89838496263 43.3678747163, 4.90288411884 43.37013327, 4.90969873618 43.3747214536, 4.91295168161 43.3796738878, 4.91249322223 43.3847277718, 4.91598247934 43.3828889721, 4.91586642535 43.376780267, 4.91038249752 43.3719985874, 4.90113645458 43.3655783062, 4.89266341767 43.3595174916, 4.88450091734 43.3534668314, 4.87423348318 43.3466513994, 4.86293715244 43.3386481231, 4.85650120045 43.3284474494, 4.82789349177 43.2850282779, 4.79148463539 43.2895002409, 4.75067696129 43.2995486074, 4.70233955023 43.2982046887, 4.65605192947 43.2966649627, 4.60540936269 43.3047466291, 4.55015978064 43.3177831123, 4.51450560625 43.336326927, 4.49129449343 43.3609129636, 4.48577708902 43.386411243, 4.47320743811 43.405509686, 4.43605279862 43.4001741259, 4.40650799437 43.3991223394, 4.37253225318 43.4020761104, 4.31055379008 43.4065172872, 4.23079067561 43.4538339564, 4.15997534468 43.4788695718, 4.14722434408 43.5122279998, 4.14336233734 43.5413165699, 4.15405931313 43.5514491892, 4.16813429114 43.558194622, 4.16012888991 43.5675783508, 4.18193498647 43.5659587324, 4.19595583757 43.5784875263, 4.16433628654 43.5739022476, 4.16950522142 43.585529224, 4.18290974263 43.5916610879, 4.19254028823 43.6047805737, 4.21104439544 43.6139112385, 4.2128068175 43.637238976, 4.22426918936 43.6564158287, 4.23738826725 43.6682812378, 4.25377641766 43.6684972972, 4.25414511565 43.6556344613, 4.25080770499 43.6340192527, 4.2483664292 43.6162877591, 4.2621644507 43.6245008424, 4.27629350027 43.6366158487, 4.30418771076 43.6401551193, 4.41353669914 43.6512018225, 4.44872042675 43.6679482635, 4.46358721089 43.6689524068, 4.47557585146 43.6716643539, 4.47714447514 43.6800835088, 4.47770851415 43.6890033475, 4.48442982044 43.6973150143, 4.49610667273 43.7011546702, 4.51524258599 43.7023149938, 4.52708921819 43.7032101825, 4.53534600652 43.7070894133, 4.54617398862 43.7048165456, 4.55639846678 43.6975275332, 4.55343711255 43.6913297457, 4.55085871379 43.6855511903, 4.54975226169 43.6800246932, 4.55473185251 43.6729539006, 4.56152241463 43.6693842809, 4.57032551454 43.6665403322, 4.57657981139 43.6658817349, 4.58663406179 43.6673084099, 4.5887051626 43.6641588449, 4.59211101664 43.6593243855, 4.59594170585 43.6515070422, 4.62083042407 43.6426859901, 4.71064179526 43.6358631585, 4.7297426684 43.619072104, 4.68864747538 43.6099462193, 4.67058721563 43.5930562437, 4.70794986295 43.579225543, 4.73382199361 43.569682043, 4.74417615109 43.5599096112, 4.76857192373 43.5570403393, 4.79339441688 43.5431739036, 4.80644730174 43.5240475768, 4.84529401399 43.4879697606, 4.83833237639 43.4690699859, 4.79962079261 43.4379723563, 4.78597575813 43.4192459016, 4.78202323268 43.4008902926, 4.76161806347 43.4053818492, 4.74937677637 43.4147022478, 4.73141261807 43.4159224533, 4.70746843634 43.3959589277, 4.71150410319 43.3715117629, 4.72358629263 43.3576146237, 4.77336583801 43.3797583683, 4.80822380971 43.3813965005, 4.84300981505 43.3783050406, 4.86066177699 43.3715898307, 4.87083498122 43.3651122615, 4.87422567012 43.3610336917))'"
   ]
  },
  {
   "cell_type": "code",
   "execution_count": 9,
   "metadata": {
    "collapsed": true
   },
   "outputs": [],
   "source": [
    "from shapely.wkt import loads "
   ]
  },
  {
   "cell_type": "code",
   "execution_count": 10,
   "metadata": {
    "collapsed": false
   },
   "outputs": [],
   "source": [
    "geom = loads(wkt).buffer(0.2).to_wkt().replace(',', '%2C').replace(' ', '%20')"
   ]
  },
  {
   "cell_type": "markdown",
   "metadata": {},
   "source": [
    "### User Mapping"
   ]
  },
  {
   "cell_type": "markdown",
   "metadata": {},
   "source": [
    "### Coordinator parameters"
   ]
  },
  {
   "cell_type": "code",
   "execution_count": 12,
   "metadata": {
    "collapsed": false
   },
   "outputs": [],
   "source": [
    "start_queue = '${coord:formatTime(coord:dateOffset(coord:nominalTime(), -10, \\'DAY\\'), \"yyyy-MM-dd\\'T\\'HH:mm:ss\\'Z\\'\")}'\n",
    "end_queue = '${coord:formatTime(coord:dateOffset(coord:nominalTime(), -9, \\'DAY\\'), \"yyyy-MM-dd\\'T\\'HH:mm:ss\\'Z\\'\")}'"
   ]
  },
  {
   "cell_type": "code",
   "execution_count": 13,
   "metadata": {
    "collapsed": true
   },
   "outputs": [],
   "source": [
    "co_trigger_queue_process_id = 'coordinator_ec_ecopotential_tg_ecopotential_00003_queue_tg_ecopotential_00003_1_12'"
   ]
  },
  {
   "cell_type": "code",
   "execution_count": 14,
   "metadata": {
    "collapsed": true
   },
   "outputs": [],
   "source": [
    "coordinator_date_start = '2018-04-01T00:00Z'\n",
    "coordinator_date_stop = '2018-12-31T00:00Z'\n",
    "coordinator_period = '0 0 * * *'"
   ]
  },
  {
   "cell_type": "markdown",
   "metadata": {},
   "source": [
    "### Imports"
   ]
  },
  {
   "cell_type": "code",
   "execution_count": 15,
   "metadata": {
    "collapsed": false
   },
   "outputs": [],
   "source": [
    "import owslib\n",
    "from owslib.wps import monitorExecution\n",
    "from owslib.wps import WebProcessingService\n",
    "import sys\n",
    "import os\n",
    "sys.path.append('/opt/anaconda/bin/')\n",
    "import lxml.etree as etree\n",
    "import requests\n",
    "import shapely\n",
    "import dateutil.parser\n",
    "\n",
    "from datetime import datetime, timedelta\n",
    "from io import BytesIO\n",
    "import json"
   ]
  },
  {
   "cell_type": "markdown",
   "metadata": {},
   "source": [
    "### Common Parameters"
   ]
  },
  {
   "cell_type": "code",
   "execution_count": 16,
   "metadata": {
    "collapsed": true
   },
   "outputs": [],
   "source": [
    "tg_quotation = 'No'\n",
    "recovery = 'No'\n",
    "_T2Username = data_pipeline"
   ]
  },
  {
   "cell_type": "markdown",
   "metadata": {},
   "source": [
    "### Check data transformation application"
   ]
  },
  {
   "cell_type": "code",
   "execution_count": 17,
   "metadata": {
    "collapsed": false
   },
   "outputs": [],
   "source": [
    "wps = WebProcessingService(wps_url_apps, verbose=False, skip_caps=False)"
   ]
  },
  {
   "cell_type": "code",
   "execution_count": 18,
   "metadata": {
    "collapsed": false
   },
   "outputs": [
    {
     "name": "stdout",
     "output_type": "stream",
     "text": [
      "The process ec_ecopotential_dcs_s2_ndvi_boa_ndvi_boa_1_9 is deployed\n"
     ]
    }
   ],
   "source": [
    "found_process = False\n",
    "\n",
    "message = \"The process %s is not deployed\" % process_id  \n",
    "    \n",
    "for index, elem in enumerate(wps.processes):\n",
    "\n",
    "    if elem.identifier == process_id:\n",
    "        message = \"The process %s is deployed\" % process_id  \n",
    "        found_process = True\n",
    "        \n",
    "print message\n",
    "\n",
    "if not found_process:\n",
    "    raise Exception()"
   ]
  },
  {
   "cell_type": "code",
   "execution_count": 19,
   "metadata": {
    "collapsed": true
   },
   "outputs": [],
   "source": [
    "process = wps.describeprocess(process_id)"
   ]
  },
  {
   "cell_type": "code",
   "execution_count": 20,
   "metadata": {
    "collapsed": false
   },
   "outputs": [
    {
     "name": "stdout",
     "output_type": "stream",
     "text": [
      "source\n",
      "pa_code\n",
      "pa_name\n",
      "resolution\n",
      "plot\n",
      "flag_expr\n",
      "_T2Username\n"
     ]
    }
   ],
   "source": [
    "for input in process.dataInputs:\n",
    "    print(input.identifier)"
   ]
  },
  {
   "cell_type": "markdown",
   "metadata": {},
   "source": [
    "### Check trigger coordinator"
   ]
  },
  {
   "cell_type": "code",
   "execution_count": 21,
   "metadata": {
    "collapsed": false
   },
   "outputs": [],
   "source": [
    "wps = WebProcessingService(wps_url_triggers, verbose=False, skip_caps=False)"
   ]
  },
  {
   "cell_type": "code",
   "execution_count": 22,
   "metadata": {
    "collapsed": false
   },
   "outputs": [
    {
     "name": "stdout",
     "output_type": "stream",
     "text": [
      "The queue coordinator process coordinator_ec_ecopotential_tg_ecopotential_00003_queue_tg_ecopotential_00003_1_12 is deployed\n"
     ]
    }
   ],
   "source": [
    "found_process = False\n",
    "\n",
    "message = \"The queue coordinator process %s is not deployed\" % co_trigger_queue_process_id  \n",
    "    \n",
    "for index, elem in enumerate(wps.processes):\n",
    "\n",
    "    if elem.identifier == co_trigger_queue_process_id:\n",
    "        message = \"The queue coordinator process %s is deployed\" % co_trigger_queue_process_id  \n",
    "        found_process = True\n",
    "        \n",
    "print message\n",
    "\n",
    "if not found_process:\n",
    "    raise Exception()"
   ]
  },
  {
   "cell_type": "markdown",
   "metadata": {},
   "source": [
    "### Feed the queue"
   ]
  },
  {
   "cell_type": "code",
   "execution_count": 23,
   "metadata": {
    "collapsed": false
   },
   "outputs": [],
   "source": [
    "process = wps.describeprocess(co_trigger_queue_process_id)"
   ]
  },
  {
   "cell_type": "code",
   "execution_count": 24,
   "metadata": {
    "collapsed": false
   },
   "outputs": [
    {
     "data": {
      "text/plain": [
       "'Trigger for ecopotential-00003 Coordinator'"
      ]
     },
     "execution_count": 24,
     "metadata": {},
     "output_type": "execute_result"
    }
   ],
   "source": [
    "process.title"
   ]
  },
  {
   "cell_type": "code",
   "execution_count": 25,
   "metadata": {
    "collapsed": false
   },
   "outputs": [
    {
     "data": {
      "text/plain": [
       "'Coordinator: Trigger for ecopotential-00003'"
      ]
     },
     "execution_count": 25,
     "metadata": {},
     "output_type": "execute_result"
    }
   ],
   "source": [
    "process.abstract"
   ]
  },
  {
   "cell_type": "code",
   "execution_count": 26,
   "metadata": {
    "collapsed": false
   },
   "outputs": [
    {
     "name": "stdout",
     "output_type": "stream",
     "text": [
      "series\n",
      "data_pipeline\n",
      "wps_url\n",
      "process_id\n",
      "update\n",
      "geom\n",
      "product_type\n",
      "cloud_coverage\n",
      "tg_quotation\n",
      "api_key\n",
      "recovery\n",
      "mode\n",
      "pa_code\n",
      "pa_name\n",
      "resolution\n",
      "plot\n",
      "flag_expr\n",
      "t2_coordinator_date_start\n",
      "t2_coordinator_date_stop\n",
      "t2_coordinator_period\n",
      "_T2Username\n"
     ]
    }
   ],
   "source": [
    "for input in process.dataInputs:\n",
    "    print(input.identifier)"
   ]
  },
  {
   "cell_type": "markdown",
   "metadata": {},
   "source": [
    "##### Define the input parameters\n"
   ]
  },
  {
   "cell_type": "code",
   "execution_count": 27,
   "metadata": {
    "collapsed": true
   },
   "outputs": [],
   "source": [
    "mode = 'Queue'"
   ]
  },
  {
   "cell_type": "code",
   "execution_count": 28,
   "metadata": {
    "collapsed": false
   },
   "outputs": [],
   "source": [
    "inputs = [('series', series),\n",
    "        ('data_pipeline', data_pipeline),\n",
    "        ('wps_url', wps_url_apps),\n",
    "        ('process_id', process_id),\n",
    "        ('update', '%s/%s' % (start_queue, end_queue)),\n",
    "        ('geom', geom),\n",
    "        ('product_type', product_type),\n",
    "        ('cloud_coverage', cloud_coverage),\n",
    "        ('tg_quotation', tg_quotation),\n",
    "        ('api_key', api_key),\n",
    "        ('recovery', recovery),\n",
    "        ('mode', mode),\n",
    "        ('pa_code', pa_code),\n",
    "        ('pa_name', pa_name),\n",
    "        ('resolution', resolution),\n",
    "        ('plot', plot),\n",
    "        ('flag_expr', flag_expr),\n",
    "        ('t2_coordinator_date_start', coordinator_date_start), \n",
    "        ('t2_coordinator_date_stop', coordinator_date_stop),\n",
    "        ('t2_coordinator_period', coordinator_period),\n",
    "        ('_T2Username', data_pipeline)]"
   ]
  },
  {
   "cell_type": "markdown",
   "metadata": {},
   "source": [
    "##### Identify the outputs"
   ]
  },
  {
   "cell_type": "code",
   "execution_count": 29,
   "metadata": {
    "collapsed": false
   },
   "outputs": [
    {
     "name": "stdout",
     "output_type": "stream",
     "text": [
      "coordinatorIds\n"
     ]
    }
   ],
   "source": [
    "for output in process.processOutputs:\n",
    "    print(output.identifier)"
   ]
  },
  {
   "cell_type": "markdown",
   "metadata": {},
   "source": [
    "##### Submit the coordinator request"
   ]
  },
  {
   "cell_type": "code",
   "execution_count": 30,
   "metadata": {
    "collapsed": true
   },
   "outputs": [],
   "source": [
    "execution = owslib.wps.WPSExecution(url=wps.url)"
   ]
  },
  {
   "cell_type": "code",
   "execution_count": 31,
   "metadata": {
    "collapsed": false
   },
   "outputs": [],
   "source": [
    "execution_request = execution.buildRequest(co_trigger_queue_process_id, \n",
    "                                           inputs, \n",
    "                                           output = [('coordinatorIds', False)])"
   ]
  },
  {
   "cell_type": "code",
   "execution_count": 32,
   "metadata": {
    "collapsed": false
   },
   "outputs": [],
   "source": [
    "execution_response = execution.submitRequest(etree.tostring(execution_request, pretty_print=True))"
   ]
  },
  {
   "cell_type": "code",
   "execution_count": 33,
   "metadata": {
    "collapsed": true
   },
   "outputs": [],
   "source": [
    "if False:\n",
    "    print(etree.tostring(execution_request, pretty_print=True))"
   ]
  },
  {
   "cell_type": "code",
   "execution_count": 34,
   "metadata": {
    "collapsed": false
   },
   "outputs": [],
   "source": [
    "execution.parseResponse(execution_response)"
   ]
  },
  {
   "cell_type": "code",
   "execution_count": 35,
   "metadata": {
    "collapsed": false
   },
   "outputs": [],
   "source": [
    "if False:\n",
    "    print(etree.tostring(execution_response, pretty_print=True))"
   ]
  },
  {
   "cell_type": "code",
   "execution_count": 36,
   "metadata": {
    "collapsed": false
   },
   "outputs": [
    {
     "data": {
      "text/plain": [
       "'http://ec-ecopotential-triggers-deployer.terradue.com/zoo-bin/zoo_loader.cgi?request=Execute&service=WPS&version=1.0.0&Identifier=GetStatus&DataInputs=sid=dab5d5d2-6e28-11e8-8eb0-0242ac110005&RawDataOutput=Result'"
      ]
     },
     "execution_count": 36,
     "metadata": {},
     "output_type": "execute_result"
    }
   ],
   "source": [
    "execution.statusLocation"
   ]
  },
  {
   "cell_type": "code",
   "execution_count": 37,
   "metadata": {
    "collapsed": false
   },
   "outputs": [],
   "source": [
    "monitorExecution(execution)"
   ]
  },
  {
   "cell_type": "code",
   "execution_count": 38,
   "metadata": {
    "collapsed": false
   },
   "outputs": [
    {
     "data": {
      "text/plain": [
       "True"
      ]
     },
     "execution_count": 38,
     "metadata": {},
     "output_type": "execute_result"
    }
   ],
   "source": [
    "execution.isSucceded()"
   ]
  },
  {
   "cell_type": "code",
   "execution_count": 39,
   "metadata": {
    "collapsed": false
   },
   "outputs": [
    {
     "name": "stdout",
     "output_type": "stream",
     "text": [
      "coordinatorIds\n",
      "result_osd\n",
      "QUOTATION\n"
     ]
    }
   ],
   "source": [
    "for output in execution.processOutputs:\n",
    "    print(output.identifier)"
   ]
  },
  {
   "cell_type": "code",
   "execution_count": 40,
   "metadata": {
    "collapsed": false
   },
   "outputs": [],
   "source": [
    "coordinator_id = str(json.loads(execution.processOutputs[0].data[0])['coordinatorsId'][0]['oozieId'])"
   ]
  },
  {
   "cell_type": "code",
   "execution_count": 41,
   "metadata": {
    "collapsed": false
   },
   "outputs": [
    {
     "data": {
      "text/plain": [
       "'0002151-180330140554685-oozie-oozi-C'"
      ]
     },
     "execution_count": 41,
     "metadata": {},
     "output_type": "execute_result"
    }
   ],
   "source": [
    "coordinator_id"
   ]
  },
  {
   "cell_type": "code",
   "execution_count": null,
   "metadata": {
    "collapsed": true
   },
   "outputs": [],
   "source": []
  }
 ],
 "metadata": {
  "kernelspec": {
   "display_name": "Python 2",
   "language": "python",
   "name": "python2"
  },
  "language_info": {
   "codemirror_mode": {
    "name": "ipython",
    "version": 2
   },
   "file_extension": ".py",
   "mimetype": "text/x-python",
   "name": "python",
   "nbconvert_exporter": "python",
   "pygments_lexer": "ipython2",
   "version": "2.7.12"
  }
 },
 "nbformat": 4,
 "nbformat_minor": 2
}
