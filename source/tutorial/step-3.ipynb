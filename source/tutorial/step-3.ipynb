{
 "cells": [
  {
   "cell_type": "markdown",
   "metadata": {},
   "source": [
    "## Step 3 - Set the software repository\n"
   ]
  },
  {
   "cell_type": "markdown",
   "metadata": {
    "collapsed": true
   },
   "source": [
    "BETTER data pipelines rely on GitLab to host the software repositories\n",
    "\n",
    "The generic URL is https://gitlab.com/ec-better/, then a sub-group per promoter, e.g. _wfp_ and finally the data pipeline identifier\n",
    "\n",
    "Example of a software repository URL:\n",
    "\n",
    "* https://gitlab.com/ec-better/wfp/wfp-01-01-01 for the Web interface\n",
    "\n",
    "* git@gitlab.com:ec-better/wfp/wfp-01-01-01.git for the git ssh clone URL\n",
    "\n",
    "* https://gitlab.com/ec-better/wfp/wfp-01-01-01.git for the HTTPs clone URL"
   ]
  },
  {
   "cell_type": "markdown",
   "metadata": {
    "collapsed": true
   },
   "source": [
    "* Go to your Jupyter workspace and open a terminal\n",
    "\n"
   ]
  },
  {
   "cell_type": "markdown",
   "metadata": {
    "collapsed": false
   },
   "source": [
    "Type the lines below to go to the folder where the archetype was instantiated during **step 2** and set the `HOME` environment variable (it is required by `git`) \n",
    "\n",
    "```bash\n",
    "export HOME=/workspace\n",
    "cd $HOME/wfp-01-01-01\n",
    "```"
   ]
  },
  {
   "cell_type": "markdown",
   "metadata": {},
   "source": [
    "* Set your gitlab information with:\n",
    "\n",
    "```bash\n",
    "git config --global user.name \"Fabrice Brito\"\n",
    "git config --global user.email \"fabrice.brito@terradue.com\"\n",
    "```"
   ]
  },
  {
   "cell_type": "markdown",
   "metadata": {
    "collapsed": true
   },
   "source": [
    "<div class=\"alert alert-info\">\n",
    "\n",
    "**Note:** Update the username and email with your information!\n",
    "\n",
    "</div>"
   ]
  },
  {
   "cell_type": "markdown",
   "metadata": {},
   "source": [
    "* Initialize the git repository and do the first commit on the master branch"
   ]
  },
  {
   "cell_type": "markdown",
   "metadata": {
    "raw_mimetype": "text/restructuredtext"
   },
   "source": [
    "```bash\n",
    "git init\n",
    "git remote add origin https://gitlab.com/ec-better/wfp/wfp-01-01-01.git\n",
    "git add .\n",
    "git commit -m \"Initial commit\"\n",
    "git push -u origin master\n",
    "```"
   ]
  },
  {
   "cell_type": "markdown",
   "metadata": {},
   "source": [
    "* Initialize the `git flow` process (if you are not familiar with the process, it's explained [here](https://datasift.github.io/gitflow/IntroducingGitFlow.html)."
   ]
  },
  {
   "cell_type": "markdown",
   "metadata": {
    "collapsed": true
   },
   "source": [
    "```bash\n",
    "git flow init -d\n",
    "git push -u origin develop\n",
    "```"
   ]
  },
  {
   "cell_type": "markdown",
   "metadata": {},
   "source": [
    "The software repository is now configured properly and the data tranformation application implementation can now begin with **Step 4** of this tutorial"
   ]
  }
 ],
 "metadata": {
  "celltoolbar": "Raw Cell Format",
  "kernelspec": {
   "display_name": "Python 2",
   "language": "python",
   "name": "python2"
  },
  "language_info": {
   "codemirror_mode": {
    "name": "ipython",
    "version": 2
   },
   "file_extension": ".py",
   "mimetype": "text/x-python",
   "name": "python",
   "nbconvert_exporter": "python",
   "pygments_lexer": "ipython2",
   "version": "2.7.12"
  }
 },
 "nbformat": 4,
 "nbformat_minor": 2
}
