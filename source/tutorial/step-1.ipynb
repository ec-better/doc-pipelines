{
 "cells": [
  {
   "cell_type": "markdown",
   "metadata": {},
   "source": [
    "## Step 1 - Stage-in the EO data"
   ]
  },
  {
   "cell_type": "markdown",
   "metadata": {},
   "source": [
    "The Jupyter Notebooks process local Earth Observation data. As such we have prepared a set of Jupyter notebooks that stage-in the EO data required for the implementation of each BETTER data pipelines data transformation application.\n",
    "\n",
    "The stage-in notebooks are published on a software repository hosted by GitLab at the URL https://gitlab.com/ec-better/stage-in/better-stage-in-notebooks.\n",
    "\n",
    "Stage-in Jupyter Notebooks file name include the data pipeline identifier to ease their identification and scope. "
   ]
  },
  {
   "cell_type": "markdown",
   "metadata": {},
   "source": [
    "At this stage, the stage-in Jupyter Notebooks are:\n",
    "\n",
    "* WFP-01-01-01 Sentinel-1 backscatter timeseries - stage-in\n",
    "* WFP-01-01-02 Sentinel-1 coherence timeseries - stage-in\n",
    "* WFP-01-02-02 Landsat-8 reflectances and vegetation indices - stage-in\n",
    "* WFP-01-02-03 Sentinel-1 Sigma-0 backscatter all polarization - stage-in\n",
    "* SATCEN-01-02-02 Sentinel-1 Multi-temporal Coherence Stack - stage-in\n",
    "* ETHZ-01-03-01 Co-seismic deformation maps - stage-in\n"
   ]
  },
  {
   "cell_type": "markdown",
   "metadata": {},
   "source": [
    "This step will clone the Stage-in Jupyter Notebooks git repository on the local sandbox.\n",
    "\n",
    "* Open a Jupyter terminal and type:"
   ]
  },
  {
   "cell_type": "markdown",
   "metadata": {
    "collapsed": true
   },
   "source": [
    "```bash\n",
    "cd /workspace\n",
    "export HOME=/workspace\n",
    "git clone https://gitlab.com/ec-better/stage-in/better-stage-in-notebooks.git\n",
    "```"
   ]
  },
  {
   "cell_type": "markdown",
   "metadata": {
    "collapsed": true
   },
   "source": [
    "* Go back to the Jupyter Workspace and navigate to the **better-stage-in-notebooks** folder\n",
    "\n",
    "\n",
    "* Open the stage-in Jupyter Notebook **WFP-01-01-01 Sentinel-1 backscatter timeseries - stage-in**\n",
    "\n",
    "\n",
    "* Click _Kernel_/_Restart & Run All_ and wait for the conclusion of the EO stage-in\n",
    "\n",
    "* Go back to the Jupyter Workspace and navigate to the **data** folder. There is now a Sentinel-1 product that will be used for implementing the **WFP-01-01-01 Sentinel-1 backscatter timeseries** data tranformation application\n",
    "\n"
   ]
  },
  {
   "cell_type": "markdown",
   "metadata": {
    "collapsed": true
   },
   "source": [
    "The Stage-in Jupyter Notebook executed earlier creates two output cells that are worth drawing your attention to."
   ]
  },
  {
   "cell_type": "markdown",
   "metadata": {},
   "source": [
    "The first is:"
   ]
  },
  {
   "cell_type": "code",
   "execution_count": 4,
   "metadata": {
    "collapsed": false,
    "nbsphinx": "hidden"
   },
   "outputs": [],
   "source": [
    "s1_identifier = 'S1A_IW_GRDH_1SDV_20171210T182024_20171210T182049_019644_021603_0A33'"
   ]
  },
  {
   "cell_type": "code",
   "execution_count": 5,
   "metadata": {
    "collapsed": false
   },
   "outputs": [
    {
     "name": "stdout",
     "output_type": "stream",
     "text": [
      "input_identifier = 'S1A_IW_GRDH_1SDV_20171210T182024_20171210T182049_019644_021603_0A33'\n"
     ]
    }
   ],
   "source": [
    "print 'input_identifier = \\'%s\\'' % s1_identifier"
   ]
  },
  {
   "cell_type": "markdown",
   "metadata": {},
   "source": [
    "The output will be used in the **Step 4 - Implement the data transformation steps** of the tutorial when implementing the data transformation application using the staged-in Sentinel-1. \n",
    "\n",
    "`input_identifier` is thus a reserved keyword in a Jupyter Notebook streaming executable. This variable will be used to open the product using SNAP."
   ]
  },
  {
   "cell_type": "markdown",
   "metadata": {},
   "source": [
    "The second is:"
   ]
  },
  {
   "cell_type": "code",
   "execution_count": 10,
   "metadata": {
    "collapsed": true,
    "nbsphinx": "hidden"
   },
   "outputs": [],
   "source": [
    "s1_reference = 'https://catalog.terradue.com/sentinel1/search?format=atom&uid=S1A_IW_GRDH_1SDV_20171210T182024_20171210T182049_019644_021603_0A33'"
   ]
  },
  {
   "cell_type": "code",
   "execution_count": 11,
   "metadata": {
    "collapsed": false
   },
   "outputs": [
    {
     "name": "stdout",
     "output_type": "stream",
     "text": [
      "input_reference = 'https://catalog.terradue.com/sentinel1/search?format=atom&uid=S1A_IW_GRDH_1SDV_20171210T182024_20171210T182049_019644_021603_0A33'\n"
     ]
    }
   ],
   "source": [
    "print 'input_reference = \\'%s\\'' % s1_reference"
   ]
  },
  {
   "cell_type": "markdown",
   "metadata": {},
   "source": [
    "The output will also be used in the **Step 4 - Implement the data transformation steps** of the tutorial when implementing the data transformation application using the staged-in Sentinel-1. \n",
    "\n",
    "`input_reference` is thus a reserved keyword in a Jupyter Notebook streaming executable. It can be used for querying metadata about the product to the Catalogue.  "
   ]
  },
  {
   "cell_type": "code",
   "execution_count": null,
   "metadata": {
    "collapsed": true
   },
   "outputs": [],
   "source": []
  }
 ],
 "metadata": {
  "kernelspec": {
   "display_name": "Python 2",
   "language": "python",
   "name": "python2"
  }
 },
 "nbformat": 4,
 "nbformat_minor": 2
}
