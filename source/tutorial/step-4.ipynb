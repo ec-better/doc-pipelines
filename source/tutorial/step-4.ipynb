{
 "cells": [
  {
   "cell_type": "markdown",
   "metadata": {},
   "source": [
    "## Step 4 - Implement the data transformation steps"
   ]
  },
  {
   "cell_type": "markdown",
   "metadata": {
    "collapsed": true
   },
   "source": [
    "The data transformation application will take one Sentinel-1 products (stageg-in during **Step 1** of this tutorial) and generate the backscatter using the Sentinel Application Platform (SNAP) Python bindings.\n"
   ]
  },
  {
   "cell_type": "markdown",
   "metadata": {
    "collapsed": true
   },
   "source": [
    "The data transformation steps above will use a Jupyter Notebook to:\n",
    "\n",
    "* Read the Sentinel-1 product\n",
    "* Application of orbit file \n",
    "* Border noise removal \n",
    "* Calibration\n",
    "* Speckle filtering \n",
    "* Terrain correction\n",
    "* Conversion to dB"
   ]
  },
  {
   "cell_type": "markdown",
   "metadata": {
    "collapsed": false
   },
   "source": [
    "At runtime this Jupyter Notebook will be instantiated and parametrized to process the Sentinel-1 archive. "
   ]
  },
  {
   "cell_type": "markdown",
   "metadata": {},
   "source": [
    "### Concepts in a Jupyter Notebook streaming executable"
   ]
  },
  {
   "cell_type": "markdown",
   "metadata": {
    "collapsed": true
   },
   "source": [
    "#### Service definition"
   ]
  },
  {
   "cell_type": "markdown",
   "metadata": {
    "collapsed": true
   },
   "source": [
    "The data transformation application will be exposed as a Web Processing Service. \n",
    "\n",
    "The definition of the Web Processing Service information such as the _title_ and the _abstract_ is done with a Python dictionary: \n"
   ]
  },
  {
   "cell_type": "code",
   "execution_count": 4,
   "metadata": {
    "collapsed": true
   },
   "outputs": [],
   "source": [
    "service = dict([('title', 'WFP-01-01-01 Sentinel-1 backscatter timeseries'),\n",
    "                ('abstract', 'WFP-01-01-01 Data transformation application - Sentinel-1 backscatter timeseries'),\n",
    "                ('id', 'wfp-01-01-01')])"
   ]
  },
  {
   "cell_type": "markdown",
   "metadata": {},
   "source": [
    "<div class=\"alert alert-info\">\n",
    "\n",
    "**Note:** As you will see in Step 8, the process identifier is set by the Production Centre. The 'id' set above is used to provide and identifier to the workflow\n",
    "\n",
    "</div>"
   ]
  },
  {
   "cell_type": "markdown",
   "metadata": {},
   "source": [
    "#### Parameter Definition"
   ]
  },
  {
   "cell_type": "markdown",
   "metadata": {},
   "source": [
    "Data transformation application may have to expose parameters that can be changed via the Web Processing Service interface at submission time."
   ]
  },
  {
   "cell_type": "markdown",
   "metadata": {},
   "source": [
    "These parameters are defined using a Python dictionary that defines the parameter identifier, its title and abstract and finally its default value:"
   ]
  },
  {
   "cell_type": "code",
   "execution_count": 6,
   "metadata": {
    "collapsed": true
   },
   "outputs": [],
   "source": [
    "filterSizeX = dict([('id', 'filterSizeX'),\n",
    "               ('value', '5'),\n",
    "               ('title', 'Speckle-Filter filterSizeX'),\n",
    "               ('abstract', 'Set the Speckle-Filter filterSizeX (defaults to 5)')])"
   ]
  },
  {
   "cell_type": "markdown",
   "metadata": {},
   "source": [
    "To use the parameter value, symply do:\n"
   ]
  },
  {
   "cell_type": "code",
   "execution_count": 8,
   "metadata": {
    "collapsed": false
   },
   "outputs": [
    {
     "data": {
      "text/plain": [
       "5"
      ]
     },
     "execution_count": 8,
     "metadata": {},
     "output_type": "execute_result"
    }
   ],
   "source": [
    "int(filterSizeX['value'])"
   ]
  },
  {
   "cell_type": "markdown",
   "metadata": {},
   "source": [
    "#### Runtime parameter definition"
   ]
  },
  {
   "cell_type": "markdown",
   "metadata": {},
   "source": [
    "Runtime parameters are mandatory and define those parameters whose values will be changed at runtime.\n",
    "\n",
    "These are:\n",
    " \n",
    "* `input_identifier` - this is the Sentinel-1 product identifier. At runtime its value is replaced with the Sentinel-1 product identifier being processed\n",
    "* `input_reference` - this is the Sentinel-1 product catalogue entry URL. At runtime its value is also replaced with the Sentinel-1 product catalogue entry URL being processed\n",
    "* `data_path` - this is the local path where the Sentinel-1 was staged-in in **step 1**. At runtime its value is replaced by a folder with an unique value"
   ]
  },
  {
   "cell_type": "markdown",
   "metadata": {},
   "source": [
    "#### Publishing outputs or results"
   ]
  },
  {
   "cell_type": "markdown",
   "metadata": {},
   "source": [
    "To publish results simply save the output or result locally."
   ]
  },
  {
   "cell_type": "markdown",
   "metadata": {},
   "source": [
    "#### Implementing the data transformation processing steps"
   ]
  },
  {
   "cell_type": "markdown",
   "metadata": {},
   "source": [
    "* Define the **Service definition** with:"
   ]
  },
  {
   "cell_type": "code",
   "execution_count": 10,
   "metadata": {
    "collapsed": true
   },
   "outputs": [],
   "source": [
    "service = dict([('title', 'WFP-01-01-01 Sentinel-1 backscatter timeseries'),\n",
    "                ('abstract', 'WFP-01-01-01 Data transformation application - Sentinel-1 backscatter timeseries'),\n",
    "                ('id', 'wfp-01-01-01')])"
   ]
  },
  {
   "cell_type": "markdown",
   "metadata": {},
   "source": [
    "Define the parameters:"
   ]
  },
  {
   "cell_type": "code",
   "execution_count": 11,
   "metadata": {
    "collapsed": true
   },
   "outputs": [],
   "source": [
    "filterSizeX = dict([('id', 'filterSizeX'),\n",
    "               ('value', '5'),\n",
    "               ('title', 'Speckle-Filter filterSizeX'),\n",
    "               ('abstract', 'Set the Speckle-Filter filterSizeX (defaults to 5)')])"
   ]
  },
  {
   "cell_type": "code",
   "execution_count": 12,
   "metadata": {
    "collapsed": true
   },
   "outputs": [],
   "source": [
    "filterSizeY = dict([('id', 'filterSizeY'),\n",
    "               ('value', '5'),\n",
    "               ('title', 'Speckle-Filter filterSizeY'),\n",
    "               ('abstract', 'Set the Speckle-Filter filterSizeY (defaults to 5)')])"
   ]
  },
  {
   "cell_type": "code",
   "execution_count": 13,
   "metadata": {
    "collapsed": true
   },
   "outputs": [],
   "source": [
    "polarisation = dict([('id', 'polarisation'),\n",
    "               ('value', 'VV'),\n",
    "               ('title', 'Sentinel-1 polarisation (VV or HH)'),\n",
    "               ('abstract', 'Sentinel-1 polarisation (VV or HH)')])"
   ]
  },
  {
   "cell_type": "code",
   "execution_count": 14,
   "metadata": {
    "collapsed": true
   },
   "outputs": [],
   "source": [
    "wkt = dict([('id', 'wkt'),\n",
    "            ('value', 'POLYGON((-5.5 17.26, -1.08 17.26, -1.08 13.5, -5.5 13.5, -5.5 17.26))'),\n",
    "            ('title', 'Area of interest in WKT'),\n",
    "            ('abstract', 'Area of interest using a polygon in Well-Known-Text format')])"
   ]
  },
  {
   "cell_type": "markdown",
   "metadata": {},
   "source": [
    "* Define the **Runtime parameters**"
   ]
  },
  {
   "cell_type": "code",
   "execution_count": 15,
   "metadata": {
    "collapsed": true
   },
   "outputs": [],
   "source": [
    "input_identifier = 'S1A_IW_GRDH_1SDV_20171210T182024_20171210T182049_019644_021603_0A33'"
   ]
  },
  {
   "cell_type": "code",
   "execution_count": 16,
   "metadata": {
    "collapsed": true
   },
   "outputs": [],
   "source": [
    "input_reference = 'https://catalog.terradue.com/sentinel1/search?format=atom&uid=S1A_IW_GRDH_1SDV_20171210T182024_20171210T182049_019644_021603_0A33' "
   ]
  },
  {
   "cell_type": "code",
   "execution_count": 17,
   "metadata": {
    "collapsed": true
   },
   "outputs": [],
   "source": [
    "data_path = '/workspace/data'"
   ]
  },
  {
   "cell_type": "markdown",
   "metadata": {},
   "source": [
    "* Define the Python libraries "
   ]
  },
  {
   "cell_type": "code",
   "execution_count": 18,
   "metadata": {
    "collapsed": true
   },
   "outputs": [],
   "source": [
    "%matplotlib inline\n",
    "\n",
    "import warnings\n",
    "warnings.filterwarnings(\"ignore\")\n",
    "import os\n",
    "import sys\n",
    "import glob\n",
    "sys.path.append('/opt/anaconda/bin/')\n",
    "\n",
    "import numpy as np\n",
    "import matplotlib\n",
    "import matplotlib.pyplot as plt\n",
    "import matplotlib.colors as colors\n",
    "\n",
    "from snappy import jpy\n",
    "from snappy import ProductIO\n",
    "from snappy import GPF\n",
    "from snappy import HashMap\n",
    "\n",
    "import gc"
   ]
  },
  {
   "cell_type": "markdown",
   "metadata": {},
   "source": [
    "* Read the Sentinel-1 product"
   ]
  },
  {
   "cell_type": "code",
   "execution_count": 20,
   "metadata": {
    "collapsed": false
   },
   "outputs": [
    {
     "ename": "RuntimeError",
     "evalue": "java.io.IOException: org.esa.s1tbx.io.sentinel1.Sentinel1ProductReader\n[input=/workspace/data/S1A_IW_GRDH_1SDV_20171210T182024_20171210T182049_019644_021603_0A33/S1A_IW_GRDH_1SDV_20171210T182024_20171210T182049_019644_021603_0A33.SAFE/manifest.safe]:\n/workspace/data/S1A_IW_GRDH_1SDV_20171210T182024_20171210T182049_019644_021603_0A33/S1A_IW_GRDH_1SDV_20171210T182024_20171210T182049_019644_021603_0A33.SAFE/manifest.safe not found",
     "output_type": "error",
     "traceback": [
      "\u001b[0;31m\u001b[0m",
      "\u001b[0;31mRuntimeError\u001b[0mTraceback (most recent call last)",
      "\u001b[0;32m<ipython-input-20-d48d23edbfaf>\u001b[0m in \u001b[0;36m<module>\u001b[0;34m()\u001b[0m\n\u001b[1;32m      4\u001b[0m \u001b[0;34m\u001b[0m\u001b[0m\n\u001b[1;32m      5\u001b[0m \u001b[0mreader\u001b[0m \u001b[0;34m=\u001b[0m \u001b[0mProductIO\u001b[0m\u001b[0;34m.\u001b[0m\u001b[0mgetProductReader\u001b[0m\u001b[0;34m(\u001b[0m\u001b[0;34m\"SENTINEL-1\"\u001b[0m\u001b[0;34m)\u001b[0m\u001b[0;34m\u001b[0m\u001b[0m\n\u001b[0;32m----> 6\u001b[0;31m \u001b[0mproduct\u001b[0m \u001b[0;34m=\u001b[0m \u001b[0mreader\u001b[0m\u001b[0;34m.\u001b[0m\u001b[0mreadProductNodes\u001b[0m\u001b[0;34m(\u001b[0m\u001b[0ms1prd\u001b[0m\u001b[0;34m,\u001b[0m \u001b[0mNone\u001b[0m\u001b[0;34m)\u001b[0m\u001b[0;34m\u001b[0m\u001b[0m\n\u001b[0m",
      "\u001b[0;31mRuntimeError\u001b[0m: java.io.IOException: org.esa.s1tbx.io.sentinel1.Sentinel1ProductReader\n[input=/workspace/data/S1A_IW_GRDH_1SDV_20171210T182024_20171210T182049_019644_021603_0A33/S1A_IW_GRDH_1SDV_20171210T182024_20171210T182049_019644_021603_0A33.SAFE/manifest.safe]:\n/workspace/data/S1A_IW_GRDH_1SDV_20171210T182024_20171210T182049_019644_021603_0A33/S1A_IW_GRDH_1SDV_20171210T182024_20171210T182049_019644_021603_0A33.SAFE/manifest.safe not found"
     ]
    }
   ],
   "source": [
    "s1meta = \"manifest.safe\"\n",
    "\n",
    "s1prd = os.path.join(data_path, input_identifier, input_identifier + '.SAFE', s1meta)\n",
    "\n",
    "reader = ProductIO.getProductReader(\"SENTINEL-1\")\n",
    "product = reader.readProductNodes(s1prd, None)"
   ]
  },
  {
   "cell_type": "code",
   "execution_count": null,
   "metadata": {
    "collapsed": true
   },
   "outputs": [],
   "source": []
  }
 ],
 "metadata": {
  "kernelspec": {
   "display_name": "Python 2",
   "language": "python",
   "name": "python2"
  },
  "language_info": {
   "codemirror_mode": {
    "name": "ipython",
    "version": 2
   },
   "file_extension": ".py",
   "mimetype": "text/x-python",
   "name": "python",
   "nbconvert_exporter": "python",
   "pygments_lexer": "ipython2",
   "version": "2.7.12"
  }
 },
 "nbformat": 4,
 "nbformat_minor": 2
}
