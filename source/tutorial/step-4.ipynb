{
 "cells": [
  {
   "cell_type": "markdown",
   "metadata": {},
   "source": [
    "## Step 4 - Implement the data transformation steps"
   ]
  },
  {
   "cell_type": "markdown",
   "metadata": {
    "collapsed": true
   },
   "source": [
    "The data transformation application will take one Sentinel-1 products (stageg-in during **Step 1** of this tutorial) and generate the backscatter using the Sentinel Application Platform (SNAP) Python bindings.\n"
   ]
  },
  {
   "cell_type": "markdown",
   "metadata": {
    "collapsed": true
   },
   "source": [
    "The data transformation steps above will use a Jupyter Notebook to:\n",
    "\n",
    "* Read the Sentinel-1 product\n",
    "* Application of orbit file \n",
    "* Border noise removal \n",
    "* Calibration\n",
    "* Speckle filtering \n",
    "* Terrain correction\n",
    "* Conversion to dB"
   ]
  },
  {
   "cell_type": "markdown",
   "metadata": {
    "collapsed": false
   },
   "source": [
    "At runtime this Jupyter Notebook will be instantiated and parametrized to process the Sentinel-1 archive. "
   ]
  },
  {
   "cell_type": "markdown",
   "metadata": {
    "collapsed": true
   },
   "source": [
    "#### Service definition"
   ]
  },
  {
   "cell_type": "markdown",
   "metadata": {
    "collapsed": true
   },
   "source": [
    "The data transformation application will be exposed as a Web Processing Service. \n",
    "\n",
    "The definition of the Web Processing Service information such as the _title_ and the _abstract_ is done with a Python dictionary: \n"
   ]
  },
  {
   "cell_type": "code",
   "execution_count": 1,
   "metadata": {
    "collapsed": true
   },
   "outputs": [],
   "source": [
    "service = dict([('title', 'WFP-01-01-01 Sentinel-1 backscatter timeseries'),\n",
    "                ('abstract', 'WFP-01-01-01 Data transformation application - Sentinel-1 backscatter timeseries'),\n",
    "                ('id', 'wfp-01-01-01')])"
   ]
  },
  {
   "cell_type": "markdown",
   "metadata": {},
   "source": [
    "<div class=\"alert alert-info\">\n",
    "\n",
    "**Note:** As you will see in Step 8, the process identifier is set by the Production Centre. The 'id' set above is used to provide and identifier to the workflow\n",
    "\n",
    "</div>"
   ]
  },
  {
   "cell_type": "markdown",
   "metadata": {},
   "source": [
    "#### Parameter Definition"
   ]
  },
  {
   "cell_type": "markdown",
   "metadata": {},
   "source": [
    "Data transformation application may have to expose parameters that can be changed via the Web Processing Service interface at submission time."
   ]
  },
  {
   "cell_type": "markdown",
   "metadata": {},
   "source": [
    "These parameters are defined using a Python dictionary that defines the parameter identifier, its title and abstract and finally its default value:"
   ]
  },
  {
   "cell_type": "code",
   "execution_count": 2,
   "metadata": {
    "collapsed": true
   },
   "outputs": [],
   "source": [
    "filterSizeX = dict([('id', 'filterSizeX'),\n",
    "               ('value', '5'),\n",
    "               ('title', 'Speckle-Filter filterSizeX'),\n",
    "               ('abstract', 'Set the Speckle-Filter filterSizeX (defaults to 5)')])"
   ]
  },
  {
   "cell_type": "markdown",
   "metadata": {},
   "source": [
    "To use the parameter value, symply do:\n"
   ]
  },
  {
   "cell_type": "code",
   "execution_count": 3,
   "metadata": {
    "collapsed": false
   },
   "outputs": [
    {
     "data": {
      "text/plain": [
       "5"
      ]
     },
     "execution_count": 3,
     "metadata": {},
     "output_type": "execute_result"
    }
   ],
   "source": [
    "int(filterSizeX['value'])"
   ]
  },
  {
   "cell_type": "markdown",
   "metadata": {},
   "source": [
    "#### Runtime parameter definition"
   ]
  },
  {
   "cell_type": "markdown",
   "metadata": {},
   "source": [
    "Runtime parameters are mandatory and define those parameters whose values will be changed at runtime.\n",
    "\n",
    "These are:\n",
    " \n",
    "* `input_identifier` - this is the Sentinel-1 product identifier. At runtime its value is replaced with the Sentinel-1 product identifier being processed\n",
    "* `input_reference` - this is the Sentinel-1 product catalogue entry URL. At runtime its value is also replaced with the Sentinel-1 product catalogue entry URL being processed\n",
    "* `data_path` - this is the local path where the Sentinel-1 was staged-in in **step 1**. At runtime its value is replaced by a folder with an unique value"
   ]
  },
  {
   "cell_type": "markdown",
   "metadata": {},
   "source": [
    "#### Publishing outputs or results"
   ]
  },
  {
   "cell_type": "markdown",
   "metadata": {},
   "source": [
    "To publish results simply save the output or result locally."
   ]
  },
  {
   "cell_type": "markdown",
   "metadata": {},
   "source": [
    "#### Implementing the data transformation processing steps"
   ]
  },
  {
   "cell_type": "markdown",
   "metadata": {},
   "source": [
    "* Define the **Service definition** with:"
   ]
  },
  {
   "cell_type": "code",
   "execution_count": 4,
   "metadata": {
    "collapsed": true
   },
   "outputs": [],
   "source": [
    "service = dict([('title', 'WFP-01-01-01 Sentinel-1 backscatter timeseries'),\n",
    "                ('abstract', 'WFP-01-01-01 Data transformation application - Sentinel-1 backscatter timeseries'),\n",
    "                ('id', 'wfp-01-01-01')])"
   ]
  },
  {
   "cell_type": "markdown",
   "metadata": {},
   "source": [
    "Define the parameters:"
   ]
  },
  {
   "cell_type": "code",
   "execution_count": 5,
   "metadata": {
    "collapsed": true
   },
   "outputs": [],
   "source": [
    "filterSizeX = dict([('id', 'filterSizeX'),\n",
    "               ('value', '5'),\n",
    "               ('title', 'Speckle-Filter filterSizeX'),\n",
    "               ('abstract', 'Set the Speckle-Filter filterSizeX (defaults to 5)')])"
   ]
  },
  {
   "cell_type": "code",
   "execution_count": 6,
   "metadata": {
    "collapsed": true
   },
   "outputs": [],
   "source": [
    "filterSizeY = dict([('id', 'filterSizeY'),\n",
    "               ('value', '5'),\n",
    "               ('title', 'Speckle-Filter filterSizeY'),\n",
    "               ('abstract', 'Set the Speckle-Filter filterSizeY (defaults to 5)')])"
   ]
  },
  {
   "cell_type": "code",
   "execution_count": 7,
   "metadata": {
    "collapsed": true
   },
   "outputs": [],
   "source": [
    "polarisation = dict([('id', 'polarisation'),\n",
    "               ('value', 'VV'),\n",
    "               ('title', 'Sentinel-1 polarisation (VV or HH)'),\n",
    "               ('abstract', 'Sentinel-1 polarisation (VV or HH)')])"
   ]
  },
  {
   "cell_type": "code",
   "execution_count": 8,
   "metadata": {
    "collapsed": true
   },
   "outputs": [],
   "source": [
    "wkt = dict([('id', 'wkt'),\n",
    "            ('value', 'POLYGON((-5.5 17.26, -1.08 17.26, -1.08 13.5, -5.5 13.5, -5.5 17.26))'),\n",
    "            ('title', 'Area of interest in WKT'),\n",
    "            ('abstract', 'Area of interest using a polygon in Well-Known-Text format')])"
   ]
  },
  {
   "cell_type": "markdown",
   "metadata": {},
   "source": [
    "* Define the **Runtime parameters**"
   ]
  },
  {
   "cell_type": "code",
   "execution_count": 9,
   "metadata": {
    "collapsed": true
   },
   "outputs": [],
   "source": [
    "input_identifier = 'S1A_IW_GRDH_1SDV_20171210T182024_20171210T182049_019644_021603_0A33'"
   ]
  },
  {
   "cell_type": "code",
   "execution_count": 10,
   "metadata": {
    "collapsed": true
   },
   "outputs": [],
   "source": [
    "input_reference = 'https://catalog.terradue.com/sentinel1/search?format=atom&uid=S1A_IW_GRDH_1SDV_20171210T182024_20171210T182049_019644_021603_0A33' "
   ]
  },
  {
   "cell_type": "code",
   "execution_count": 11,
   "metadata": {
    "collapsed": true
   },
   "outputs": [],
   "source": [
    "data_path = '/workspace/data'"
   ]
  },
  {
   "cell_type": "markdown",
   "metadata": {},
   "source": [
    "* Define the Python libraries "
   ]
  },
  {
   "cell_type": "code",
   "execution_count": 12,
   "metadata": {
    "collapsed": true
   },
   "outputs": [],
   "source": [
    "%matplotlib inline\n",
    "\n",
    "import warnings\n",
    "warnings.filterwarnings(\"ignore\")\n",
    "import os\n",
    "import sys\n",
    "import glob\n",
    "sys.path.append('/opt/anaconda/bin/')\n",
    "\n",
    "import numpy as np\n",
    "import matplotlib\n",
    "import matplotlib.pyplot as plt\n",
    "import matplotlib.colors as colors\n",
    "\n",
    "from snappy import jpy\n",
    "from snappy import ProductIO\n",
    "from snappy import GPF\n",
    "from snappy import HashMap\n",
    "\n",
    "import gc"
   ]
  },
  {
   "cell_type": "markdown",
   "metadata": {},
   "source": [
    "* Read the Sentinel-1 product"
   ]
  },
  {
   "cell_type": "code",
   "execution_count": 13,
   "metadata": {
    "collapsed": false
   },
   "outputs": [],
   "source": [
    "s1meta = \"manifest.safe\"\n",
    "\n",
    "s1prd = os.path.join(data_path, input_identifier, input_identifier + '.SAFE', s1meta)\n",
    "\n",
    "reader = ProductIO.getProductReader(\"SENTINEL-1\")\n",
    "product = reader.readProductNodes(s1prd, None)"
   ]
  },
  {
   "cell_type": "markdown",
   "metadata": {},
   "source": [
    "* Apply the Thermal Noise Removal"
   ]
  },
  {
   "cell_type": "code",
   "execution_count": 14,
   "metadata": {
    "collapsed": true
   },
   "outputs": [],
   "source": [
    "HashMap = jpy.get_type('java.util.HashMap')    \n",
    "GPF.getDefaultInstance().getOperatorSpiRegistry().loadOperatorSpis()\n",
    "\n",
    "parameters = HashMap()\n",
    "\n",
    "parameters.put('selectedPolarisations', polarisation['value'])\n",
    "parameters.put('removeThermalNoise', 'true')\n",
    "parameters.put('reIntroduceThermalNoise', 'false')\n",
    "\n",
    "thermal_noise_removal = GPF.createProduct('ThermalNoiseRemoval', parameters, product)"
   ]
  },
  {
   "cell_type": "markdown",
   "metadata": {},
   "source": [
    "* Apply the orbit file correction"
   ]
  },
  {
   "cell_type": "code",
   "execution_count": 15,
   "metadata": {
    "collapsed": true
   },
   "outputs": [],
   "source": [
    "parameters = HashMap()\n",
    "\n",
    "parameters.put('orbitType', 'Sentinel Precise (Auto Download)')\n",
    "parameters.put('polyDegree', '3')\n",
    "parameters.put('continueOnFail', 'false')\n",
    "\n",
    "apply_orbit_file = GPF.createProduct('Apply-Orbit-File', parameters, thermal_noise_removal)"
   ]
  },
  {
   "cell_type": "markdown",
   "metadata": {},
   "source": [
    "* Perform the Calibration"
   ]
  },
  {
   "cell_type": "code",
   "execution_count": 16,
   "metadata": {
    "collapsed": true
   },
   "outputs": [],
   "source": [
    "parameters = HashMap()\n",
    "\n",
    "parameters.put('auxFile', 'Product Auxiliary File')\n",
    "parameters.put('outputImageInComplex', 'false')\n",
    "parameters.put('outputImageScaleInDb', 'false')\n",
    "parameters.put('createGammaBand', 'false')\n",
    "parameters.put('createBetaBand', 'true')\n",
    "parameters.put('selectedPolarisations', polarisation['value'])\n",
    "parameters.put('outputSigmaBand', 'false')\n",
    "parameters.put('outputGammaBand', 'false')\n",
    "parameters.put('outputBetaBand', 'true')\n",
    "\n",
    "calibration = GPF.createProduct('Calibration', parameters, apply_orbit_file)"
   ]
  },
  {
   "cell_type": "markdown",
   "metadata": {},
   "source": [
    "* Apply the Speckle Filter "
   ]
  },
  {
   "cell_type": "code",
   "execution_count": 17,
   "metadata": {
    "collapsed": true
   },
   "outputs": [],
   "source": [
    "parameters = HashMap()\n",
    "\n",
    "parameters.put('sourceBands', 'Beta0_%s' % (polarisation['value']))\n",
    "parameters.put('filter', 'Lee')\n",
    "parameters.put('filterSizeX', filterSizeX['value'])\n",
    "parameters.put('filterSizeY', filterSizeY['value'])\n",
    "parameters.put('dampingFactor', '2')\n",
    "parameters.put('estimateENL', 'true')\n",
    "parameters.put('enl', '1.0')\n",
    "parameters.put('numLooksStr', '1')\n",
    "parameters.put('targetWindowSizeStr', '3x3')\n",
    "parameters.put('sigmaStr', '0.9')\n",
    "parameters.put('anSize', '50')\n",
    "\n",
    "speckle_filter = GPF.createProduct('Speckle-Filter', parameters, calibration)"
   ]
  },
  {
   "cell_type": "markdown",
   "metadata": {},
   "source": [
    "* Apply the Terrain Correction"
   ]
  },
  {
   "cell_type": "code",
   "execution_count": 18,
   "metadata": {
    "collapsed": true
   },
   "outputs": [],
   "source": [
    "parameters = HashMap()\n",
    "\n",
    "parameters.put('sourceBands', 'Beta0_%s' % (polarisation['value']))\n",
    "parameters.put('demName', 'SRTM 3Sec')\n",
    "parameters.put('externalDEMFile', '')\n",
    "parameters.put('externalDEMNoDataValue', '0.0')\n",
    "parameters.put('externalDEMApplyEGM', 'true')\n",
    "parameters.put('demResamplingMethod', 'BILINEAR_INTERPOLATION')\n",
    "parameters.put('imgResamplingMethod', 'BILINEAR_INTERPOLATION')\n",
    "parameters.put('pixelSpacingInMeter', '10.0')\n",
    "#parameters.put('pixelSpacingInDegree', '8.983152841195215E-5')\n",
    "parameters.put('mapProjection', 'AUTO:42001')\n",
    "parameters.put('nodataValueAtSea', 'true')\n",
    "parameters.put('saveDEM', 'false')\n",
    "parameters.put('saveLatLon', 'false')\n",
    "parameters.put('saveIncidenceAngleFromEllipsoid', 'false')\n",
    "parameters.put('saveProjectedLocalIncidenceAngle', 'false')\n",
    "parameters.put('saveSelectedSourceBand', 'true')\n",
    "parameters.put('outputComplex', 'false')\n",
    "parameters.put('applyRadiometricNormalization', 'false')\n",
    "parameters.put('saveSigmaNought', 'false')\n",
    "parameters.put('saveGammaNought', 'false')\n",
    "parameters.put('saveBetaNought', 'false')\n",
    "parameters.put('incidenceAngleForSigma0', 'Use projected local incidence angle from DEM')\n",
    "parameters.put('incidenceAngleForGamma0', 'Use projected local incidence angle from DEM')\n",
    "parameters.put('auxFile', 'Latest Auxiliary File')\n",
    "\n",
    "terrain_correction = GPF.createProduct('Terrain-Correction', parameters, speckle_filter)"
   ]
  },
  {
   "cell_type": "markdown",
   "metadata": {},
   "source": [
    "* Apply the Linar to dB "
   ]
  },
  {
   "cell_type": "code",
   "execution_count": 19,
   "metadata": {
    "collapsed": true
   },
   "outputs": [],
   "source": [
    "parameters = HashMap()\n",
    "\n",
    "lineartodb = GPF.createProduct('linearToFromdB', parameters, terrain_correction)"
   ]
  },
  {
   "cell_type": "markdown",
   "metadata": {},
   "source": [
    "* Free some memory with the garbage collector"
   ]
  },
  {
   "cell_type": "code",
   "execution_count": 27,
   "metadata": {
    "collapsed": false
   },
   "outputs": [
    {
     "data": {
      "text/plain": [
       "0"
      ]
     },
     "execution_count": 27,
     "metadata": {},
     "output_type": "execute_result"
    }
   ],
   "source": [
    "thermal_noise_removal = None\n",
    "apply_orbit_file = None\n",
    "calibration = None\n",
    "speckle_filter = None\n",
    "terrain_correction = None\n",
    "\n",
    "gc.collect()"
   ]
  },
  {
   "cell_type": "markdown",
   "metadata": {},
   "source": [
    "* Save the result"
   ]
  },
  {
   "cell_type": "code",
   "execution_count": null,
   "metadata": {
    "collapsed": true
   },
   "outputs": [],
   "source": [
    "output_name = '%s_Beta0_%s.tif' % (input_identifier, polarisation['value'])\n",
    "\n",
    "ProductIO.writeProduct(lineartodb, \n",
    "                       output_name, \n",
    "                       'GeoTIFF-BigTIFF')"
   ]
  },
  {
   "cell_type": "markdown",
   "metadata": {},
   "source": [
    "<div class=\"alert alert-info\">\n",
    "\n",
    "**Note:** The data transformation is done!\n",
    "\n",
    "</div>"
   ]
  },
  {
   "cell_type": "markdown",
   "metadata": {},
   "source": [
    "Now that we have implemented the data transformation, let's plot a subset of the backscatter:"
   ]
  },
  {
   "cell_type": "code",
   "execution_count": 28,
   "metadata": {
    "collapsed": false
   },
   "outputs": [
    {
     "data": {
      "text/plain": [
       "['Beta0_VV_db']"
      ]
     },
     "execution_count": 28,
     "metadata": {},
     "output_type": "execute_result"
    }
   ],
   "source": [
    "list(lineartodb.getBandNames())"
   ]
  },
  {
   "cell_type": "code",
   "execution_count": 29,
   "metadata": {
    "collapsed": false
   },
   "outputs": [],
   "source": [
    "parameters = HashMap()\n",
    "\n",
    "parameters.put('sourceBands', 'Beta0_%s_db' % (polarisation['value']))\n",
    "\n",
    "parameters.put('geoRegion', 'POLYGON((-4.5 16.26, -2.08 16.26, -2.08 14.5, -4.5 14.5, -4.5 16.26))')\n",
    "parameters.put('subSamplingX', '1')\n",
    "parameters.put('subSamplingY', '1')\n",
    "parameters.put('fullSwath', 'false')\n",
    "parameters.put('tiePointGridNames', '')\n",
    "parameters.put('copyMetadata', 'true')\n",
    "\n",
    "subset = GPF.createProduct('Subset', \n",
    "                           parameters, \n",
    "                           lineartodb)"
   ]
  },
  {
   "cell_type": "code",
   "execution_count": 30,
   "metadata": {
    "collapsed": false
   },
   "outputs": [
    {
     "data": {
      "text/plain": [
       "['Beta0_VV_db']"
      ]
     },
     "execution_count": 30,
     "metadata": {},
     "output_type": "execute_result"
    }
   ],
   "source": [
    "list(subset.getBandNames())"
   ]
  },
  {
   "cell_type": "code",
   "execution_count": 31,
   "metadata": {
    "collapsed": true
   },
   "outputs": [],
   "source": [
    "def plotBand(product, band, vmin, vmax):\n",
    "     \n",
    "    band = product.getBand(band)\n",
    "\n",
    "    w = band.getRasterWidth()\n",
    "    h = band.getRasterHeight()\n",
    "\n",
    "    band_data = np.zeros(w * h, np.float32)\n",
    "    band.readPixels(0, 0, w, h, band_data)\n",
    "\n",
    "    band_data.shape = h, w\n",
    "\n",
    "    imgplot = plt.imshow(band_data, \n",
    "                         cmap=plt.cm.binary_r, \n",
    "                         vmin=vmin, \n",
    "                         vmax=vmax)\n",
    "\n",
    "    \n",
    "    return imgplot "
   ]
  },
  {
   "cell_type": "code",
   "execution_count": null,
   "metadata": {
    "collapsed": false
   },
   "outputs": [],
   "source": [
    "plotBand(subset, \n",
    "         list(lineartodb.getBandNames())[0],\n",
    "         0,\n",
    "         1000)"
   ]
  },
  {
   "cell_type": "markdown",
   "metadata": {},
   "source": [
    "#### Documenting the Jupyter Notebook streaming executable"
   ]
  },
  {
   "cell_type": "markdown",
   "metadata": {},
   "source": [
    "One of the nice features of Jupyter Notebooks is that they can incorporate text that documents what is done."
   ]
  },
  {
   "cell_type": "markdown",
   "metadata": {},
   "source": [
    "Follow this [link](artifacts/input.ipynb) for a proposal for documenting the WFP-01-01-01 Sentinel-1 backscatter timeseries data transformation streaming notebook"
   ]
  }
 ],
 "metadata": {
  "kernelspec": {
   "display_name": "Python 2",
   "language": "python",
   "name": "python2"
  },
  "language_info": {
   "codemirror_mode": {
    "name": "ipython",
    "version": 2
   },
   "file_extension": ".py",
   "mimetype": "text/x-python",
   "name": "python",
   "nbconvert_exporter": "python",
   "pygments_lexer": "ipython2",
   "version": "2.7.12"
  }
 },
 "nbformat": 4,
 "nbformat_minor": 2
}
