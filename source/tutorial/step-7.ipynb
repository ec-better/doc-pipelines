{
 "cells": [
  {
   "cell_type": "markdown",
   "metadata": {},
   "source": [
    "## Step 7 - Prepare the application for the Production Centre"
   ]
  },
  {
   "cell_type": "markdown",
   "metadata": {
    "collapsed": true
   },
   "source": [
    "The Production Centre uses Docker images and deploys them in a Cloud based environment for large scale production campaigns.\n",
    "\n",
    "This step will trigger the build of a Docker image containing the data transformation application created in the previous steps "
   ]
  },
  {
   "cell_type": "markdown",
   "metadata": {},
   "source": [
    "We will invoke components of the Ellip Platform Continuous Integration."
   ]
  },
  {
   "cell_type": "markdown",
   "metadata": {},
   "source": [
    "The input for trigering the build of Docker image containing the data transformation application uses the pom, an XML file that contains information about the data transformation application and configuration details used by Maven to build the Docker image."
   ]
  },
  {
   "cell_type": "markdown",
   "metadata": {},
   "source": [
    "The goal of step 7 is to create a Jupyter Notebook that will read the data transformation application pom file and trigger the build of the Docker image."
   ]
  },
  {
   "cell_type": "markdown",
   "metadata": {},
   "source": [
    "#### Reading the Pom\n",
    "\n",
    "Create a simple Python class to read the elements of the pom."
   ]
  },
  {
   "cell_type": "markdown",
   "metadata": {},
   "source": [
    "* First the import of the required Python libraries:"
   ]
  },
  {
   "cell_type": "code",
   "execution_count": 2,
   "metadata": {
    "collapsed": true
   },
   "outputs": [],
   "source": [
    "import jenkins\n",
    "import time\n",
    "import lxml.etree as etree\n",
    "import sys\n",
    "import requests\n",
    "import os\n",
    "import string\n",
    "import hashlib\n",
    "import urllib2\n",
    "import pytz\n",
    "from datetime import datetime\n",
    "import time\n",
    "import owslib\n",
    "from owslib.wps import monitorExecution\n",
    "import uuid\n",
    "from owslib.wps import WebProcessingService\n",
    "import getpass "
   ]
  },
  {
   "cell_type": "markdown",
   "metadata": {},
   "source": [
    "* The class with a constructor taking as parameter the path to the pom file and methods to retrieve the version, artifact id and community. This information is used to create the build request\n",
    "\n"
   ]
  },
  {
   "cell_type": "code",
   "execution_count": 3,
   "metadata": {
    "collapsed": true
   },
   "outputs": [],
   "source": [
    "class Pom:\n",
    "\n",
    "    root = None\n",
    "    tree = None\n",
    "    pom_namespaces = { 'A':'http://maven.apache.org/POM/4.0.0' }\n",
    "    \n",
    "    def __init__(self, pom_path):\n",
    "        \n",
    "        try:\n",
    "            self.tree = etree.parse(pom_path)\n",
    "            self.root = self.tree.getroot()\n",
    "\n",
    "        except IOError as e:\n",
    "            print 'Error, run this utility as you would run maven'\n",
    "            \n",
    "    def get_version(self):\n",
    "    \n",
    "        el = self.root.xpath('/A:project/A:version', \n",
    "                             namespaces=self.pom_namespaces)\n",
    "        \n",
    "        return el[0].text\n",
    "    \n",
    "    def get_artifact_id(self):\n",
    "    \n",
    "        el = self.root.xpath('/A:project/A:artifactId', \n",
    "                             namespaces=self.pom_namespaces)\n",
    "        \n",
    "        return el[0].text\n",
    "    \n",
    "    def get_community(self):\n",
    "    \n",
    "        el = self.root.xpath('/A:project/A:properties/A:community', \n",
    "                             namespaces=self.pom_namespaces)\n",
    "        \n",
    "        return el[0].text"
   ]
  },
  {
   "cell_type": "markdown",
   "metadata": {},
   "source": [
    "* Create two simple functions to submit the build request and to monitor it:"
   ]
  },
  {
   "cell_type": "code",
   "execution_count": 4,
   "metadata": {
    "collapsed": true
   },
   "outputs": [],
   "source": [
    "def submit_build_job(server, job, sleepSecs=3):\n",
    "    \n",
    "    last_build = server.get_job_info(job)['lastCompletedBuild']['number']\n",
    "    \n",
    "    server.build_job(job, {'RELEASE': 'true'})\n",
    "    \n",
    "    while server.get_job_info(job)['lastBuild']['number'] == last_build:\n",
    "        \n",
    "        time.sleep(sleepSecs)\n",
    "        \n",
    "    return server.get_job_info(job)['lastBuild']['number']"
   ]
  },
  {
   "cell_type": "code",
   "execution_count": 5,
   "metadata": {
    "collapsed": true
   },
   "outputs": [],
   "source": [
    "def monitor_build_job(server, job, sleepSecs=15):\n",
    "    \n",
    "    last_build_number = server.get_job_info(job)['lastBuild']['number']\n",
    "    \n",
    "    while server.get_build_info(job, last_build_number)['building']:\n",
    "        \n",
    "        time.sleep(sleepSecs)\n",
    "    \n",
    "    if str(server.get_build_info(job, last_build_number)['result']) == 'SUCCESS':\n",
    "        \n",
    "        return True\n",
    "    \n",
    "    if str(server.get_build_info(job, last_build_number)['result']) == 'FAILURE':\n",
    "        \n",
    "        return False"
   ]
  },
  {
   "cell_type": "markdown",
   "metadata": {},
   "source": [
    "* Set the authentication information:"
   ]
  },
  {
   "cell_type": "code",
   "execution_count": 6,
   "metadata": {
    "collapsed": false
   },
   "outputs": [
    {
     "name": "stdout",
     "output_type": "stream",
     "text": [
      "What is your Jenkins username? fbrito\n",
      "And your Jenkins API key:········\n"
     ]
    }
   ],
   "source": [
    "username = raw_input(\"What is your Jenkins username? \")\n",
    "api_key = getpass.getpass('And your Jenkins API key:')"
   ]
  },
  {
   "cell_type": "markdown",
   "metadata": {},
   "source": [
    "* Establish a connection with the build component of the Ellip Platform Continuous Integration:"
   ]
  },
  {
   "cell_type": "code",
   "execution_count": 7,
   "metadata": {
    "collapsed": true
   },
   "outputs": [],
   "source": [
    "server = jenkins.Jenkins(url='https://build.terradue.com',\n",
    "                        username=username,\n",
    "                        password=api_key)"
   ]
  },
  {
   "cell_type": "markdown",
   "metadata": {},
   "source": [
    "* Create a pom object:"
   ]
  },
  {
   "cell_type": "code",
   "execution_count": 8,
   "metadata": {
    "collapsed": true
   },
   "outputs": [],
   "source": [
    "pom = Pom(pom_path='/workspace/training/wfp-01-01-01/pom.xml')"
   ]
  },
  {
   "cell_type": "markdown",
   "metadata": {},
   "source": [
    "* Create the build request path:"
   ]
  },
  {
   "cell_type": "code",
   "execution_count": 10,
   "metadata": {
    "collapsed": true
   },
   "outputs": [],
   "source": [
    "repositories = ['Gitlab Groups',\n",
    "                'Github Organizations']\n",
    "\n",
    "job = 'communities/%s/%s/%s/docker' % (repositories[0], \n",
    "                                           pom.get_community(), \n",
    "                                           pom.get_artifact_id())"
   ]
  },
  {
   "cell_type": "code",
   "execution_count": 11,
   "metadata": {
    "collapsed": false
   },
   "outputs": [
    {
     "name": "stdout",
     "output_type": "stream",
     "text": [
      "communities/Gitlab Groups/ec-better/wfp-01-01-01/docker\n"
     ]
    }
   ],
   "source": [
    "print(job)"
   ]
  },
  {
   "cell_type": "markdown",
   "metadata": {},
   "source": [
    "* Submit the build job:"
   ]
  },
  {
   "cell_type": "code",
   "execution_count": 12,
   "metadata": {
    "collapsed": false
   },
   "outputs": [
    {
     "data": {
      "text/plain": [
       "4"
      ]
     },
     "execution_count": 12,
     "metadata": {},
     "output_type": "execute_result"
    }
   ],
   "source": [
    "submit_build_job(server, job)"
   ]
  },
  {
   "cell_type": "markdown",
   "metadata": {},
   "source": [
    "* Monitor the build request:"
   ]
  },
  {
   "cell_type": "code",
   "execution_count": 14,
   "metadata": {
    "collapsed": false
   },
   "outputs": [
    {
     "name": "stdout",
     "output_type": "stream",
     "text": [
      "Job build failed\n"
     ]
    }
   ],
   "source": [
    "if monitor_build_job(server, job):\n",
    "    print 'Job build completed'\n",
    "else:\n",
    "    print 'Job build failed'"
   ]
  },
  {
   "cell_type": "code",
   "execution_count": null,
   "metadata": {
    "collapsed": true
   },
   "outputs": [],
   "source": []
  }
 ],
 "metadata": {
  "kernelspec": {
   "display_name": "Python 2",
   "language": "python",
   "name": "python2"
  },
  "language_info": {
   "codemirror_mode": {
    "name": "ipython",
    "version": 2
   },
   "file_extension": ".py",
   "mimetype": "text/x-python",
   "name": "python",
   "nbconvert_exporter": "python",
   "pygments_lexer": "ipython2",
   "version": "2.7.12"
  }
 },
 "nbformat": 4,
 "nbformat_minor": 2
}
