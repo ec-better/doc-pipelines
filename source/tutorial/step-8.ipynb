{
 "cells": [
  {
   "cell_type": "markdown",
   "metadata": {},
   "source": [
    "## Step 8 - Deploy the application on the Production Centre"
   ]
  },
  {
   "cell_type": "markdown",
   "metadata": {
    "collapsed": true
   },
   "source": [
    "Step 8 of the tutorial uses a Jupyter Notebook to create a Web Processing Request to deploy the data transformation application on the Production Centre. "
   ]
  },
  {
   "cell_type": "markdown",
   "metadata": {},
   "source": [
    "* First do the imports of the Python libraries required"
   ]
  },
  {
   "cell_type": "code",
   "execution_count": 1,
   "metadata": {
    "collapsed": true
   },
   "outputs": [],
   "source": [
    "import jenkins\n",
    "import time\n",
    "import lxml.etree as etree\n",
    "import sys\n",
    "import requests\n",
    "import os\n",
    "import string\n",
    "import hashlib\n",
    "import urllib2\n",
    "import pytz\n",
    "from datetime import datetime\n",
    "import time\n",
    "import owslib\n",
    "from owslib.wps import monitorExecution\n",
    "import uuid\n",
    "from owslib.wps import WebProcessingService\n",
    "import getpass "
   ]
  },
  {
   "cell_type": "markdown",
   "metadata": {},
   "source": [
    "* Create a simple Python class to read the elements of the pom with a constructor taking as parameter the path to the pom file and methods to retrieve the version, artifact id and community. This information is used to create the build request"
   ]
  },
  {
   "cell_type": "code",
   "execution_count": 17,
   "metadata": {
    "collapsed": false
   },
   "outputs": [
    {
     "name": "stdout",
     "output_type": "stream",
     "text": [
      "And your Ellip API key:········\n"
     ]
    }
   ],
   "source": [
    "api_key = getpass.getpass('And your Ellip API key:')"
   ]
  },
  {
   "cell_type": "code",
   "execution_count": 13,
   "metadata": {
    "collapsed": true
   },
   "outputs": [],
   "source": [
    "app = dict([('artifact_id', 'wfp-01-01-01'),\n",
    "            ('version', '0.4'),\n",
    "            ('repository', 'Github Organizations'),\n",
    "            ('community', 'ec-better')])"
   ]
  },
  {
   "cell_type": "markdown",
   "metadata": {},
   "source": [
    "* Connect to the WPS server and do a GetCapabilities request to list the available process:"
   ]
  },
  {
   "cell_type": "code",
   "execution_count": 6,
   "metadata": {
    "collapsed": true
   },
   "outputs": [],
   "source": [
    "wps_url = 'https://ec-better-apps-deployer.terradue.com/zoo-bin/zoo_loader.cgi'\n",
    "\n",
    "wps = WebProcessingService(wps_url, verbose=False, skip_caps=True)\n",
    "\n",
    "wps.getcapabilities()"
   ]
  },
  {
   "cell_type": "code",
   "execution_count": 7,
   "metadata": {
    "collapsed": false
   },
   "outputs": [
    {
     "name": "stdout",
     "output_type": "stream",
     "text": [
      "(0, 'TerradueUnDeployProcess')\n",
      "(1, 'ec_better_wfp_01_01_01_wfp_01_01_01_0_1')\n",
      "(2, 'GetStatus')\n",
      "(3, 'TerradueDeployProcess')\n"
     ]
    }
   ],
   "source": [
    "for index, elem in enumerate(wps.processes):\n",
    "    print(index, elem.identifier)"
   ]
  },
  {
   "cell_type": "markdown",
   "metadata": {},
   "source": [
    "* Select the **DeployProcess** process to submit a DescribeProcess request and list the inputs:"
   ]
  },
  {
   "cell_type": "code",
   "execution_count": 21,
   "metadata": {
    "collapsed": false
   },
   "outputs": [
    {
     "name": "stdout",
     "output_type": "stream",
     "text": [
      "applicationPackage\n",
      "apikey\n",
      "deployResult\n"
     ]
    }
   ],
   "source": [
    "process_id = 'TerradueDeployProcess'\n",
    "        \n",
    "process = wps.describeprocess(process_id)\n",
    "\n",
    "for input in process.dataInputs:\n",
    "    print(input.identifier)\n",
    "    \n",
    "    \n",
    "    \n",
    "for output in process.processOutputs:\n",
    "    print(output.identifier)"
   ]
  },
  {
   "cell_type": "markdown",
   "metadata": {},
   "source": [
    "* Build the Python dictionary with the inputs:"
   ]
  },
  {
   "cell_type": "code",
   "execution_count": 24,
   "metadata": {
    "collapsed": false
   },
   "outputs": [],
   "source": [
    "ows_context_url = '/%s/_applications/%s/%s/%s/%s-%s-application-context.xml' % (app['community'], \n",
    "                                                                   app['community'], \n",
    "                                                                   app['artifact_id'],\n",
    "                                                                   app['version'], \n",
    "                                                                   app['artifact_id'],\n",
    "                                                                    app['version'])\n",
    "#/ec-better/_applications/ec-better/wfp-01-01-01/0.4/wfp-01-01-01-0.4-application-context.xml    "
   ]
  },
  {
   "cell_type": "code",
   "execution_count": 25,
   "metadata": {
    "collapsed": false
   },
   "outputs": [
    {
     "data": {
      "text/plain": [
       "'/ec-better/_applications/ec-better/wfp-01-01-01/0.4/wfp-01-01-01-0.4-application-context.xml'"
      ]
     },
     "execution_count": 25,
     "metadata": {},
     "output_type": "execute_result"
    }
   ],
   "source": [
    "ows_context_url"
   ]
  },
  {
   "cell_type": "code",
   "execution_count": 26,
   "metadata": {
    "collapsed": false
   },
   "outputs": [],
   "source": [
    "inputs = [('applicationPackage', ows_context_url),\n",
    "          ('apikey', api_key)]"
   ]
  },
  {
   "cell_type": "markdown",
   "metadata": {},
   "source": [
    "* Submit the Execute WPS request:"
   ]
  },
  {
   "cell_type": "code",
   "execution_count": 27,
   "metadata": {
    "collapsed": true
   },
   "outputs": [],
   "source": [
    "execution = owslib.wps.WPSExecution(url=wps.url)\n",
    "\n",
    "execution_request = execution.buildRequest(process_id, \n",
    "                                           inputs, \n",
    "                                           output = [('deployResult', False)])\n",
    "        \n",
    "execution_response = execution.submitRequest(etree.tostring(execution_request))\n",
    "        \n",
    "execution.parseResponse(execution_response)"
   ]
  },
  {
   "cell_type": "markdown",
   "metadata": {},
   "source": [
    "* Monitor the request:"
   ]
  },
  {
   "cell_type": "code",
   "execution_count": 28,
   "metadata": {
    "collapsed": false
   },
   "outputs": [],
   "source": [
    "monitorExecution(execution)"
   ]
  },
  {
   "cell_type": "markdown",
   "metadata": {},
   "source": [
    "* Check if the application was successfully deployed"
   ]
  },
  {
   "cell_type": "code",
   "execution_count": 29,
   "metadata": {
    "collapsed": false
   },
   "outputs": [
    {
     "name": "stdout",
     "output_type": "stream",
     "text": [
      "Application deployed!\n"
     ]
    }
   ],
   "source": [
    "if execution.isSucceded(): \n",
    "            \n",
    "    print 'Application deployed!'\n",
    "            \n",
    "else: \n",
    "\n",
    "    print 'Application not deployed :-('"
   ]
  },
  {
   "cell_type": "markdown",
   "metadata": {},
   "source": [
    "* List the WPS process available, the newly deployed process must be amongst the exposed process"
   ]
  },
  {
   "cell_type": "code",
   "execution_count": 34,
   "metadata": {
    "collapsed": true
   },
   "outputs": [],
   "source": [
    "wps = WebProcessingService(wps_url, verbose=False, skip_caps=True)\n",
    "\n",
    "wps.getcapabilities()"
   ]
  },
  {
   "cell_type": "code",
   "execution_count": 35,
   "metadata": {
    "collapsed": false
   },
   "outputs": [
    {
     "name": "stdout",
     "output_type": "stream",
     "text": [
      "(0, 'ec_better_wfp_01_01_01_wfp_01_01_01_0_4')\n",
      "(1, 'TerradueUnDeployProcess')\n",
      "(2, 'ec_better_wfp_01_01_01_wfp_01_01_01_0_1')\n",
      "(3, 'GetStatus')\n",
      "(4, 'TerradueDeployProcess')\n"
     ]
    }
   ],
   "source": [
    "for index, elem in enumerate(wps.processes):\n",
    "    print(index, elem.identifier)"
   ]
  },
  {
   "cell_type": "code",
   "execution_count": null,
   "metadata": {
    "collapsed": true
   },
   "outputs": [],
   "source": []
  }
 ],
 "metadata": {
  "kernelspec": {
   "display_name": "Python 2",
   "language": "python",
   "name": "python2"
  },
  "language_info": {
   "codemirror_mode": {
    "name": "ipython",
    "version": 2
   },
   "file_extension": ".py",
   "mimetype": "text/x-python",
   "name": "python",
   "nbconvert_exporter": "python",
   "pygments_lexer": "ipython2",
   "version": "2.7.12"
  }
 },
 "nbformat": 4,
 "nbformat_minor": 2
}
