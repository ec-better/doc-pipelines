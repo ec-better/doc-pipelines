{
 "cells": [
  {
   "cell_type": "markdown",
   "metadata": {},
   "source": [
    "## Step 2 - Select and instantiate an Ellip Workflows archetype "
   ]
  },
  {
   "cell_type": "markdown",
   "metadata": {
    "collapsed": true
   },
   "source": [
    "### Ellip Workflows archetypes"
   ]
  },
  {
   "cell_type": "markdown",
   "metadata": {},
   "source": [
    "Ellip Workflows archetypes are like templates that avoid the \"white page syndrome\". \n",
    "\n",
    "The Ellip Workflows archetypes can be used form implementing the data pipelines data transformation application.\n",
    "\n",
    "At this stage there are three groups of archetypes:\n",
    "\n",
    "* Sentinel Application Platform (SNAP) archetypes the use a SNAP graph to process one or more EO input data\n",
    "* Orfeo ToolBox (OTB) archetypes that invoke OTB applications using the Python bindings\n",
    "* Jupyter Notebooks that use notebooks as streaming executables\n"
   ]
  },
  {
   "cell_type": "markdown",
   "metadata": {},
   "source": [
    "### SNAP archetypes\n"
   ]
  },
  {
   "cell_type": "markdown",
   "metadata": {},
   "source": [
    "\n",
    "The SNAP archetypes are Ellip Workflows templates that provide you with a ready-to run application to process EO data (Sentinel-1 and 2, Landsat-8, COSMO-SkyMed, RADARSAT-2 and TerraSAR-X) with a default SNAP graph.\n",
    "\n",
    "The SNAP archetypes include:\n"
   ]
  },
  {
   "cell_type": "markdown",
   "metadata": {},
   "source": [
    "| Application           | Language | Description                                                                                                                                                                                                                                       |\n",
    "|-----------------------|----------|---------------------------------------------------------------------------------------------------------------------------------------------------------------------------------------------------------------------------------------------------|\n",
    "| Sentinel-1 one-to-one | bash     | Sentinel-1 products processed in parallel with the SNAP graph taking one Sentinel-1 product and producing one result per Sentinel-1 input.  The graph provided here does the terrain correction of a Sentinel-1 product                           |\n",
    "| Sentinel-1 pair       | bash     | One pair of Sentinel-1 products processed to generate a single result.  The graph provided here generates an interferogram.                                                                                                                       |\n",
    "| Sentinel-1 stack      | bash     | A stack of Sentinel-1 products processed to generate a single result.  The graph provided here generates an cross-correlation .                                                                                                                   |\n",
    "| Sentinel-2 one-to-one | bash     | Sentinel-2 products processed in parallel with the SNAP graph taking one Sentinel-2 product and producing one result per Sentinel-2 input.  The graph provided here does a K-Means Cluster Analysis of the Sentinel-2 products provided as inputs |\n",
    "| COSMO-SkyMed pair     | bash     | One pair of COSMO-SkyMed products processed to generate a single result.  The graph provided here generates an interferogram.                                                                                                                     |\n",
    "| RADARSAT-2 pair       | bash     | One pair of RADARSAT-2 products processed to generate a single result.  The graph provided here generates an interferogram.                                                                                                                       |\n",
    "| TerraSAR-X pair       | bash     | One pair of TerraSAR-X products processed to generate a single result.  The graph provided here generates an interferogram                                                                                                                        |"
   ]
  },
  {
   "cell_type": "markdown",
   "metadata": {
    "collapsed": true
   },
   "source": [
    "The SNAP archetypes can thus be used to develop new SNAP application where only a few customisation steps are required:\n",
    "\n",
    "* Provide a compatible graph tested locally for example\n",
    "* Expose as many graph parameters as desired for the fine grain processing scenarios\n"
   ]
  },
  {
   "cell_type": "markdown",
   "metadata": {},
   "source": [
    "### OrfeoToolbox (OTB) archetypes\n"
   ]
  },
  {
   "cell_type": "markdown",
   "metadata": {},
   "source": [
    "The OTB archetypes are Ellip templates that provide you with a ready-to run application to process EO data (Sentinel-1 and 2, Landsat-8, COSMO-SkyMed, RADARSAT-2 and TerraSAR-X) with a single or a sequence of OTB applications.\n",
    "\n",
    "The OTB archetypes include:"
   ]
  },
  {
   "cell_type": "code",
   "execution_count": null,
   "metadata": {
    "collapsed": true
   },
   "outputs": [],
   "source": []
  },
  {
   "cell_type": "markdown",
   "metadata": {},
   "source": [
    "The OTB archetypes can thus be used to develop new OTB application where only a few customisation steps are required:\n",
    "\n",
    "* Define what OTB steps to apply to EO data\n",
    "* Expose as many parameters as desired for the fine grain processing scenarios\n"
   ]
  },
  {
   "cell_type": "markdown",
   "metadata": {},
   "source": [
    "### Jupyter Notebook archetypes"
   ]
  },
  {
   "cell_type": "markdown",
   "metadata": {},
   "source": [
    "The Jupyter Notebook archetypes are Ellip Workflow templates that allow using a Jupyter Notebook as a streaming executable, and thus such archetypes provide the functionalities to:\n",
    "\n",
    "* Use a Jupyter Notebook to process and plot EO data using toolboxes such as GDAL, OTB and SNAP\n",
    "* Using notebooks as streaming executables in processing services to systematically generate higher-level EO based products\n",
    "\n",
    "The notebook can be written using any of the supported kernels. Today these are:\n",
    "\n",
    "* Python 2\n",
    "* R\n",
    "\n",
    "The Jupyter Notebook archetypes include:\n"
   ]
  },
  {
   "cell_type": "markdown",
   "metadata": {},
   "source": []
  },
  {
   "cell_type": "markdown",
   "metadata": {},
   "source": [
    "The full list of Ellip Workflows archetypes is:\n",
    "\n",
    "* **ewf-bash-archetype** Archetype for Ellip Workflows Bash Applications - v2\n",
    "* **ewf-python-archetype** Archetype for Ellip Workflows Python Applications - v2\n",
    "* **ewf-R-archetype** Archetype for Ellip Workflows R Applications - BETA\n",
    "* **ewf-snap-S1-one-to-one** Ellip Workflows using SNAP and Sentinel-1 (one-to-one)\n",
    "* **ewf-snap-S1-pair** Ellip Workflows using SNAP and Sentinel-1 (pair of products)\n",
    "* **ewf-snap-S1-stack** Ellip Workflows using SNAP and Sentinel-1 (stack of products)\n",
    "* **ewf-snap-S2-one-to-one** Ellip Workflows using SNAP and Sentinel-2 (one-to-one)\n",
    "* **ewf-snap-CSK-ifg** Ellip Workflows using SNAP for COSMO-SkyMed interferogram generation\n",
    "* **ewf-snap-RS2-ifg** Ellip Workflows using SNAP for RADARSAT-2 interferogram generation\n",
    "* **ewf-snap-TSX-ifg** Ellip Workflows using SNAP for TerraSAR-X interferogram generation\n",
    "* **ewf-otb-S1-one-to-one** Ellip Workflows using OTB and Sentinel-1 (one-to-one)\n",
    "* **ewf-otb-S2-one-to-one** Ellip Workflows using OTB and Sentinel-2 (one-to-one)\n",
    "* **ewf-otb-L8-one-to-one** Ellip Workflows using OTB and Landsat-8 (one-to-one)\n",
    "* **ewf-otb-K2-one-to-one** Ellip Workflows using OTB and KOMPSAT-2 (one-to-one)\n",
    "* **ewf-otb-K3-one-to-one** Ellip Workflows using OTB and KOMPSAT-3 (one-to-one)\n",
    "* **ewf-notebook-1** Ellip Workflows using Jupyter Notebook (no stage-in, one-to-one)\n",
    "* **ewf-notebook-2** Ellip Workflows using Jupyter Notebook (no stage-in, many-to-one)\n",
    "* **ewf-notebook-stagein-1** Ellip Workflows using Jupyter Notebook with data stage-in (one-to-one)\n",
    "* **ewf-notebook-stagein-2** Ellip Workflows using Jupyter Notebook with data stage-in (many-to-one)\n",
    " \n"
   ]
  },
  {
   "cell_type": "markdown",
   "metadata": {},
   "source": [
    "### Ellip Workflows using Jupyter Notebook for BETTER data transformation application development"
   ]
  },
  {
   "cell_type": "markdown",
   "metadata": {},
   "source": [
    "The archetypes based on Jupyter Notebook are split into two groups:\n",
    "\n",
    "* Stage-in\n",
    "\n",
    "    EO data references are staged-in locally, before instantiating and executing the streaming notebook. \n",
    "    Two templates: n-to-n and m-to-1\n",
    "\n",
    "\n",
    "* No Stage-in\n",
    "\n",
    "    It implies doing the stage-in within the streaming notebook (it only provides the references). \n",
    "    Two templates: n-to-n and m-to-1\n"
   ]
  },
  {
   "cell_type": "markdown",
   "metadata": {},
   "source": [
    "### Instantiating an archetype"
   ]
  },
  {
   "cell_type": "markdown",
   "metadata": {},
   "source": [
    "*  Open a Jupyter Terminal and type:\n",
    "\n",
    "```bash\n",
    "mvn archetype:generate\n",
    "```"
   ]
  },
  {
   "cell_type": "markdown",
   "metadata": {},
   "source": [
    "The output will show the list of the available archetypes and ask you to choose one using its number:"
   ]
  },
  {
   "cell_type": "markdown",
   "metadata": {},
   "source": [
    "TODO ADD IMAGE"
   ]
  },
  {
   "cell_type": "markdown",
   "metadata": {},
   "source": [
    "* Select the **ewf-notebook-stagein-1 Ellip Workflows using Jupyter Notebook with data stage-in (one-to-one)** archetype"
   ]
  },
  {
   "cell_type": "markdown",
   "metadata": {},
   "source": [
    "* Follow the wizard to fill the information:\n",
    "\n",
    "**groupId:** \t\tthis is the affiliation domain, set the value to `eu.ec-better`\n",
    "\n",
    "**artifactId:** \tthis is the name of the data pipeline transformation application which must be same as the software repository (upcoming step 3). Set the value to `wfp-01-01-01`\n",
    "\n",
    "**version:** \t\tset the application snapshot version, set the value to `0.1-SNAPSHOT`\n",
    "\n",
    "**package:**\t\tsame as groupId, set the value to `eu.ec-better`\n",
    "\n",
    "**community:** \t\tset the value to `ec-better`\n",
    "\n",
    "**description:** \ta short description, `Sentinel-1 backscatter timeseries`\n",
    "\n",
    "**summary:** \t\ta short summary for your application, `Sentinel-1 backscatter timeseries`\n",
    "\n",
    "Confirm the values with `Y`"
   ]
  },
  {
   "cell_type": "markdown",
   "metadata": {},
   "source": [
    "Under ```/workspace/example``` there’s now a data transformation application structure:\n",
    "\n",
    "* ```notebook/libexec/input.ipynb```, the Jupyter Notebook streaming executable\n",
    "\n",
    "* ```/workspace/wfp-01-01-01/src/main/app-resources``` with\n",
    "notebook/run, the wrapping streaming executable, a python script that instantiates, parametrizes and invokes the Jupyter notebook and finally publishes the generated results (depending on the template it stages-in the inputs) - no edits here!\n",
    "\n",
    "* ```/workspace/example/test``` with the unit tests for the application\n",
    "\n"
   ]
  },
  {
   "cell_type": "markdown",
   "metadata": {
    "collapsed": true
   },
   "source": [
    "**Step 3** of the tutorial puts these files in a GitLab software repository and **Step 4** shows how to implement the Sentinel backscatter extraction"
   ]
  },
  {
   "cell_type": "code",
   "execution_count": null,
   "metadata": {
    "collapsed": true
   },
   "outputs": [],
   "source": []
  }
 ],
 "metadata": {
  "kernelspec": {
   "display_name": "Python 2",
   "language": "python",
   "name": "python2"
  },
  "language_info": {
   "codemirror_mode": {
    "name": "ipython",
    "version": 2
   },
   "file_extension": ".py",
   "mimetype": "text/x-python",
   "name": "python",
   "nbconvert_exporter": "python",
   "pygments_lexer": "ipython2",
   "version": "2.7.12"
  }
 },
 "nbformat": 4,
 "nbformat_minor": 2
}
