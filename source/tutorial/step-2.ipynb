{
 "cells": [
  {
   "cell_type": "markdown",
   "metadata": {},
   "source": [
    "## Step 2 - Select and instantiate an Ellip Workflows archetype "
   ]
  },
  {
   "cell_type": "markdown",
   "metadata": {
    "collapsed": true
   },
   "source": [
    "### Ellip Workflows archetypes"
   ]
  },
  {
   "cell_type": "markdown",
   "metadata": {},
   "source": [
    "Ellip Workflows archetypes are like templates that avoid the “white page syndrome”.\n"
   ]
  },
  {
   "cell_type": "markdown",
   "metadata": {},
   "source": [
    "### SNAP archetypes\n"
   ]
  },
  {
   "cell_type": "markdown",
   "metadata": {},
   "source": [
    "\n",
    "The SNAP archetypes are Ellip Workflows templates that provide you with a ready-to run application to process EO data (Sentinel-1 and 2, Landsat-8, COSMO-SkyMed, RADARSAT-2 and TerraSAR-X) with a default SNAP graph.\n",
    "\n",
    "The SNAP archetypes include:\n"
   ]
  },
  {
   "cell_type": "markdown",
   "metadata": {},
   "source": [
    "| Application           | Language | Description                                                                                                                                                                                                                                       |\n",
    "|-----------------------|----------|---------------------------------------------------------------------------------------------------------------------------------------------------------------------------------------------------------------------------------------------------|\n",
    "| Sentinel-1 one-to-one | bash     | Sentinel-1 products processed in parallel with the SNAP graph taking one Sentinel-1 product and producing one result per Sentinel-1 input.  The graph provided here does the terrain correction of a Sentinel-1 product                           |\n",
    "| Sentinel-1 pair       | bash     | One pair of Sentinel-1 products processed to generate a single result.  The graph provided here generates an interferogram.                                                                                                                       |\n",
    "| Sentinel-1 stack      | bash     | A stack of Sentinel-1 products processed to generate a single result.  The graph provided here generates an cross-correlation .                                                                                                                   |\n",
    "| Sentinel-2 one-to-one | bash     | Sentinel-2 products processed in parallel with the SNAP graph taking one Sentinel-2 product and producing one result per Sentinel-2 input.  The graph provided here does a K-Means Cluster Analysis of the Sentinel-2 products provided as inputs |\n",
    "| COSMO-SkyMed pair     | bash     | One pair of COSMO-SkyMed products processed to generate a single result.  The graph provided here generates an interferogram.                                                                                                                     |\n",
    "| RADARSAT-2 pair       | bash     | One pair of RADARSAT-2 products processed to generate a single result.  The graph provided here generates an interferogram.                                                                                                                       |\n",
    "| TerraSAR-X pair       | bash     | One pair of TerraSAR-X products processed to generate a single result.  The graph provided here generates an interferogram                                                                                                                        |"
   ]
  },
  {
   "cell_type": "markdown",
   "metadata": {
    "collapsed": true
   },
   "source": [
    "The SNAP archetypes can thus be used to develop new SNAP application where only a few customisation steps are required:\n",
    "\n",
    "* Provide a compatible graph tested locally for example\n",
    "* Expose as many graph parameters as desired for the fine grain processing scenarios\n"
   ]
  },
  {
   "cell_type": "markdown",
   "metadata": {},
   "source": [
    "### OrfeoToolbox (OTB) archetypes\n"
   ]
  },
  {
   "cell_type": "code",
   "execution_count": null,
   "metadata": {
    "collapsed": true
   },
   "outputs": [],
   "source": []
  }
 ],
 "metadata": {
  "kernelspec": {
   "display_name": "Python 2",
   "language": "python",
   "name": "python2"
  },
  "language_info": {
   "codemirror_mode": {
    "name": "ipython",
    "version": 2
   },
   "file_extension": ".py",
   "mimetype": "text/x-python",
   "name": "python",
   "nbconvert_exporter": "python",
   "pygments_lexer": "ipython2",
   "version": "2.7.12"
  }
 },
 "nbformat": 4,
 "nbformat_minor": 2
}
